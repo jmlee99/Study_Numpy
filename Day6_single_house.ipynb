{
 "cells": [
  {
   "cell_type": "markdown",
   "id": "5999f4bd",
   "metadata": {},
   "source": [
    "부산광역시 남/녀 1인가구 데이터\n",
    "=======================\n",
    "\n",
    "* 데이터 분석\n",
    "\n",
    "> * np_data에서, '부산광역시', '합계' 제외, dtype을 np.int64로 지정.\n",
    "> * 2015 - 2021년 까지, 남자/여자 1인가구 평균치.\n",
    "> * 2015 - 2021년 까지, 남자/여자 편차\n",
    "> * 2015 - 2021년 남/녀 1인가구 상관도: 여자 1인가구수 증가 --> 남자 1인가구 수 증가?\n",
    "> * 2015 - 2021년, 년도별 남/녀 1인가구 비율. ex. 남(164617/(164617+197132))"
   ]
  },
  {
   "cell_type": "code",
   "execution_count": 2,
   "id": "0acc70d3",
   "metadata": {},
   "outputs": [
    {
     "name": "stdout",
     "output_type": "stream",
     "text": [
      "[['부산광역시' '합계' 2015 164617 197132]\n",
      " ['부산광역시' '합계' 2016 168035 204377]\n",
      " ['부산광역시' '합계' 2017 176932 211967]\n",
      " ['부산광역시' '합계' 2018 183579 220829]\n",
      " ['부산광역시' '합계' 2019 191796 231431]\n",
      " ['부산광역시' '합계' 2020 206311 248896]\n",
      " ['부산광역시' '합계' 2021 222040 265322]]\n"
     ]
    }
   ],
   "source": [
    "import numpy as np\n",
    "import pandas as pd\n",
    "import matplotlib.pyplot as plt\n",
    "\n",
    "np.set_printoptions(precision=5, suppress=True)\n",
    "\n",
    "pd_data = pd.read_csv('성_및_연령별_1인가구__시군구_20230313213551.csv', encoding = 'cp949')\n",
    "np_data = pd_data.to_numpy()\n",
    "print(np_data)"
   ]
  },
  {
   "cell_type": "code",
   "execution_count": 3,
   "id": "438d78fa",
   "metadata": {},
   "outputs": [
    {
     "name": "stdout",
     "output_type": "stream",
     "text": [
      "[[  2015 164617 197132]\n",
      " [  2016 168035 204377]\n",
      " [  2017 176932 211967]\n",
      " [  2018 183579 220829]\n",
      " [  2019 191796 231431]\n",
      " [  2020 206311 248896]\n",
      " [  2021 222040 265322]]\n"
     ]
    }
   ],
   "source": [
    "# np_data '부산광역시', '합계' 제외, dtype을 np.int64로 지정\n",
    "sub_data = np_data[:, 2:].astype(np.int64)\n",
    "print(sub_data)\n",
    "xs = sub_data[:, 1]\n",
    "ys = sub_data[:, 2]"
   ]
  },
  {
   "cell_type": "code",
   "execution_count": 4,
   "id": "801ff572",
   "metadata": {},
   "outputs": [
    {
     "name": "stdout",
     "output_type": "stream",
     "text": [
      "187615.7142857143 225707.7142857143\n"
     ]
    }
   ],
   "source": [
    "# 2015 - 2021년 까지, 남자/여자 1인가구 평균치.\n",
    "np_mean = np.mean(sub_data[:, 1:], axis=0)\n",
    "male_mean = np_mean[0]\n",
    "female_mean = np_mean[1]\n",
    "print(male_mean, female_mean)"
   ]
  },
  {
   "cell_type": "code",
   "execution_count": 5,
   "id": "a30df8ef",
   "metadata": {},
   "outputs": [
    {
     "name": "stdout",
     "output_type": "stream",
     "text": [
      "19253.20747834193\n",
      "[-22998.71429 -19580.71429 -10683.71429  -4036.71429   4180.28571\n",
      "  18695.28571  34424.28571]\n",
      "[-28575.71429 -21330.71429 -13740.71429  -4878.71429   5723.28571\n",
      "  23188.28571  39614.28571]\n",
      "[[-22998.71429 -28575.71429]\n",
      " [-19580.71429 -21330.71429]\n",
      " [-10683.71429 -13740.71429]\n",
      " [ -4036.71429  -4878.71429]\n",
      " [  4180.28571   5723.28571]\n",
      " [ 18695.28571  23188.28571]\n",
      " [ 34424.28571  39614.28571]]\n"
     ]
    }
   ],
   "source": [
    "# 2015 - 2021년 까지, 남자/여자 편차\n",
    "\n",
    "male_std = np.std(xs, axis = 0)\n",
    "print(male_std)\n",
    "\n",
    "male_deviation = xs - male_mean       # 편차 : 원래 - 평균\n",
    "female_deviation = ys - female_mean\n",
    "print(male_deviation)\n",
    "print(female_deviation)\n",
    "\n",
    "print(sub_data[:, 1:] - np.mean(sub_data[:, 1:], axis = 0))"
   ]
  },
  {
   "cell_type": "code",
   "execution_count": 6,
   "id": "d6962e58",
   "metadata": {},
   "outputs": [
    {
     "data": {
      "text/plain": [
       "0.9986989969155929"
      ]
     },
     "execution_count": 6,
     "metadata": {},
     "output_type": "execute_result"
    }
   ],
   "source": [
    "# 2015 - 2021년 남/녀 1인가구 상관도: 여자 1인가구수 증가 --> 남자 1인가구 수 증가?\n",
    "np.corrcoef(xs, ys)[0,1] # 상관도가 상당히 높다."
   ]
  },
  {
   "cell_type": "code",
   "execution_count": 7,
   "id": "c95584f8",
   "metadata": {},
   "outputs": [
    {
     "name": "stdout",
     "output_type": "stream",
     "text": [
      "[361749 372412 388899 404408 423227 455207 487362]\n",
      "[[361749]\n",
      " [372412]\n",
      " [388899]\n",
      " [404408]\n",
      " [423227]\n",
      " [455207]\n",
      " [487362]] (7, 1)\n",
      "[[361749 361749]\n",
      " [372412 372412]\n",
      " [388899 388899]\n",
      " [404408 404408]\n",
      " [423227 423227]\n",
      " [455207 455207]\n",
      " [487362 487362]] (7, 2)\n"
     ]
    }
   ],
   "source": [
    "# 2015 - 2021년, 년도별 남/녀 1인가구 비율. ex. 남(164617/(164617+197132))\n",
    "year_sum = np.sum(sub_data[:, 1:], axis = 1)\n",
    "print(year_sum) # 남 + 녀 \n",
    "\n",
    "# broadcasting을 위해 shape 맞추기\n",
    "\n",
    "year_sum = year_sum[:, np.newaxis]\n",
    "print(year_sum, year_sum.shape)\n",
    "year_sum_concat = np.concatenate((year_sum, year_sum), axis = 1)\n",
    "print(year_sum_concat, year_sum_concat.shape)\n",
    "\n",
    "#broadcasting을 통해 비율 구하기\n",
    "\n",
    "ratio = sub_data[:,1:] / year_sum_concat"
   ]
  },
  {
   "cell_type": "code",
   "execution_count": 8,
   "id": "241fb6ce",
   "metadata": {},
   "outputs": [
    {
     "name": "stdout",
     "output_type": "stream",
     "text": [
      "[[  2015 164617 197132]\n",
      " [  2016 168035 204377]\n",
      " [  2017 176932 211967]\n",
      " [  2018 183579 220829]\n",
      " [  2019 191796 231431]\n",
      " [  2020 206311 248896]\n",
      " [  2021 222040 265322]]\n",
      "[[0.45506 0.54494]\n",
      " [0.45121 0.54879]\n",
      " [0.45496 0.54504]\n",
      " [0.45395 0.54605]\n",
      " [0.45318 0.54682]\n",
      " [0.45322 0.54678]\n",
      " [0.4556  0.5444 ]]\n",
      "[[  2015.      164617.      197132.           0.45506      0.54494]\n",
      " [  2016.      168035.      204377.           0.45121      0.54879]\n",
      " [  2017.      176932.      211967.           0.45496      0.54504]\n",
      " [  2018.      183579.      220829.           0.45395      0.54605]\n",
      " [  2019.      191796.      231431.           0.45318      0.54682]\n",
      " [  2020.      206311.      248896.           0.45322      0.54678]\n",
      " [  2021.      222040.      265322.           0.4556       0.5444 ]]\n",
      "[2015 2016 2017 2018 2019 2020 2021] (7,)\n",
      "[[0.45506 0.54494]\n",
      " [0.45121 0.54879]\n",
      " [0.45496 0.54504]\n",
      " [0.45395 0.54605]\n",
      " [0.45318 0.54682]\n",
      " [0.45322 0.54678]\n",
      " [0.4556  0.5444 ]] (7, 2)\n"
     ]
    }
   ],
   "source": [
    "print(sub_data)\n",
    "print(ratio)\n",
    "\n",
    "tot = np.concatenate((sub_data, ratio), axis = 1)\n",
    "print(tot)\n",
    "\n",
    "year = sub_data[:, 0]\n",
    "\n",
    "print(year, year.shape)\n",
    "print(ratio, ratio.shape)"
   ]
  },
  {
   "cell_type": "code",
   "execution_count": 9,
   "id": "da564210",
   "metadata": {},
   "outputs": [
    {
     "name": "stdout",
     "output_type": "stream",
     "text": [
      "[[2015.         0.45506    0.54494]\n",
      " [2016.         0.45121    0.54879]\n",
      " [2017.         0.45496    0.54504]\n",
      " [2018.         0.45395    0.54605]\n",
      " [2019.         0.45318    0.54682]\n",
      " [2020.         0.45322    0.54678]\n",
      " [2021.         0.4556     0.5444 ]]\n"
     ]
    }
   ],
   "source": [
    "# 최종 년도에 따른 남/녀 1인가구 비율\n",
    "\n",
    "year_reshape = year.reshape(7,1)\n",
    "total = np.concatenate((year_reshape, ratio), axis = 1)\n",
    "print(total)"
   ]
  },
  {
   "cell_type": "code",
   "execution_count": 10,
   "id": "85daac40",
   "metadata": {},
   "outputs": [
    {
     "name": "stdout",
     "output_type": "stream",
     "text": [
      "[[  2015 164617 197132]\n",
      " [  2016 168035 204377]\n",
      " [  2017 176932 211967]\n",
      " [  2018 183579 220829]\n",
      " [  2019 191796 231431]\n",
      " [  2020 206311 248896]\n",
      " [  2021 222040 265322]]\n",
      "평균: [  2018.      187615.71429 225707.71429]\n"
     ]
    }
   ],
   "source": [
    "print(sub_data)\n",
    "print('평균:', np.mean(sub_data, axis = 0))"
   ]
  },
  {
   "cell_type": "markdown",
   "id": "90ae67f0",
   "metadata": {},
   "source": [
    "통계 검정(scipy)\n",
    "============\n",
    "\n",
    "> * ttest - 두개의 평균을 검정\n",
    "    1. 귀무가설: 두개 그룹의 평균값은 같다.\n",
    "    2. 유의수준: 0.05보다 p-value가 작으면 귀무가설 기각(채택 X)\n",
    ">    \n",
    "> * shapiro - 정규분포인지 검정\n",
    "    1. 귀무가설: 샘플의 모집단은 정규분포를 따른다.\n",
    ">    \n",
    "> * anderson - 정규분포인지 검정\n",
    "    1. 귀무가설: 샘플의 모집단은 선택된 분포를 따른다. (anderson: 여러가지 분포 선택가능), 15%, 10%, 5%, 2.5%, 1%의 모든 유의수준을 다 본다.\n",
    "    2. statistic 값이, 선택된 significance_level위 critical_value보다 크면 귀무가설 기각\n",
    ">    \n",
    "> * kstest - goodness of fit (선택된 분포와 일치하는지 검정)\n",
    "    1. 귀무가설 : 선택된 분포와 데이터가 일치함.\n",
    "    \n",
    "분산 검정(levene, bartlett)\n",
    "====================\n",
    ">  * bartlett의 귀무가설 : 두개 그룹의 variance(분산)은 같다.\n",
    ">  * "
   ]
  },
  {
   "cell_type": "code",
   "execution_count": 11,
   "id": "45d3c28c",
   "metadata": {},
   "outputs": [
    {
     "data": {
      "text/plain": [
       "((array([-1.31487, -0.74398, -0.34719,  0.     ,  0.34719,  0.74398,\n",
       "          1.31487]),\n",
       "  array([164617, 168035, 176932, 183579, 191796, 206311, 222040])),\n",
       " (22709.949846525247, 187615.7142857143, 0.9773499536096125))"
      ]
     },
     "execution_count": 11,
     "metadata": {},
     "output_type": "execute_result"
    },
    {
     "data": {
      "image/png": "[encoded data removed]",
      "text/plain": [
       "<Figure size 432x288 with 1 Axes>"
      ]
     },
     "metadata": {
      "needs_background": "light"
     },
     "output_type": "display_data"
    }
   ],
   "source": [
    "# 통계 검정(scipy)\n",
    "from scipy import stats\n",
    "\n",
    "# t-test: 두개 그룹의 평균값 비교\n",
    "# 귀무가설: 두개 그룹의 평균값은 같다.\n",
    "# 유의수준: 0.05보다 p-value가 작으면 귀무가설 기각(채택 X)\n",
    "\n",
    "# 조건\n",
    "# 각 샘플은 모집단은  normal distribution을 따른다.\n",
    "# 각 샘플의 모집단 분산은 같다.\n",
    "\n",
    "\n",
    "\n",
    "stats.ttest_ind(sub_data[:,1], sub_data[:, 2:]) # 남자, 여자의 평균은 p-value값이 0.05가 작으므로 두개의 그룹의 평균값은 다르다.\n",
    "\n",
    "# 표준 정규분포(normal distribution) 검정, shaprio, anderson, kstest\n",
    "# shaprio의 귀무가설: 샘플의 모집단은 정규분포를 따른다. \n",
    "stats.shapiro(sub_data[:, 1]) # 귀무가설 수용: 정규분포를 따름\n",
    "stats.shapiro(sub_data[: ,2]) # 귀무가설 수용: 정규분포를 따름\n",
    "\n",
    "# anderson의 귀무가설: 샘플의 모집단은 선택된 분포를 따른다. (anderson: 여러가지 분포 선택가능), 15%, 10%, 5%, 2.5%, 1%의 모든 유의수준을 다 본다.\n",
    "# statistic 값이, 선택된 significance_level위 critical_value보다 크면 귀무가설 기각\n",
    "stats.anderson(sub_data[:, 1]) # 0.2212가 5.0%의 critical_vlaue 0.742보다 작으므로, 귀무가설 수용.\n",
    "\n",
    "#kstest : goodness of fit (선택된 분포와 일치하는지 검정)\n",
    "#귀무가설 : 선택된 분포와 데이터가 일치함.\n",
    "stats.kstest(sub_data[:, 1], stats.norm.cdf) # p-value < 0.05: 노멀 분포 따르지 않음.\n",
    "#ys = stats.norm.pdf(np.linspace(-3,3,20))\n",
    "#stats.kstest(ys, stats.norm.pdf)\n",
    "\n",
    "# qqplot\n",
    "_,axe = plt.subplots()\n",
    "stats.probplot(sub_data[:,1], plot=axe)"
   ]
  },
  {
   "cell_type": "code",
   "execution_count": 12,
   "id": "937c1f4e",
   "metadata": {},
   "outputs": [
    {
     "data": {
      "text/plain": [
       "LeveneResult(statistic=0.1773168571799517, pvalue=0.6811330893323229)"
      ]
     },
     "execution_count": 12,
     "metadata": {},
     "output_type": "execute_result"
    }
   ],
   "source": [
    "# 분산 검정(equal vairance): bartlett, levene\n",
    "\n",
    "# bartlett의 귀무가설 : 두개 그룹의 variance(분산)은 같다.\n",
    "stats.bartlett(sub_data[:, 1], sub_data[:, 2]) # p-value > 0.05이므로 귀무가설 수용\n",
    "\n",
    "# levene의 귀무가설 : 두개 그룹의 variance(분산)은 같다.  *샘플이 아주 심하게 normal distribuition이 아닐경우 사용. \n",
    "stats.levene(sub_data[:, 1], sub_data[:, 2]) # p-value > 0.05이므로 귀무가설 수용"
   ]
  }
 ],
 "metadata": {
  "kernelspec": {
   "display_name": "Python 3 (ipykernel)",
   "language": "python",
   "name": "python3"
  },
  "language_info": {
   "codemirror_mode": {
    "name": "ipython",
    "version": 3
   },
   "file_extension": ".py",
   "mimetype": "text/x-python",
   "name": "python",
   "nbconvert_exporter": "python",
   "pygments_lexer": "ipython3",
   "version": "3.10.6"
  }
 },
 "nbformat": 4,
 "nbformat_minor": 5
}
