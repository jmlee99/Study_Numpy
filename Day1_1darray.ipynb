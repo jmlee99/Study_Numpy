{
 "cells": [
  {
   "cell_type": "code",
   "execution_count": 1,
   "id": "78300a64",
   "metadata": {},
   "outputs": [],
   "source": [
    "import numpy as np"
   ]
  },
  {
   "cell_type": "code",
   "execution_count": 2,
   "id": "d1da7df1",
   "metadata": {},
   "outputs": [
    {
     "name": "stdout",
     "output_type": "stream",
     "text": [
      "[1, 2, 3, 4]\n",
      "[1 2 3 4]\n",
      "<class 'numpy.ndarray'>\n"
     ]
    }
   ],
   "source": [
    "lista = [1,2,3,4]\n",
    "a1 = np.array(lista)\n",
    "print(lista)\n",
    "print(a1)\n",
    "print(type(a1))"
   ]
  },
  {
   "cell_type": "code",
   "execution_count": 4,
   "id": "c274ad15",
   "metadata": {},
   "outputs": [
    {
     "name": "stdout",
     "output_type": "stream",
     "text": [
      "[0, 1, 2, 3, 4, 5, 6, 7, 8, 9]\n",
      "[0 1 2 3 4 5 6 7 8 9]\n"
     ]
    }
   ],
   "source": [
    "listb = [x for x in range(10)]\n",
    "print(listb)\n",
    "\n",
    "a2 = np.arange(10)\n",
    "print(a2)"
   ]
  },
  {
   "cell_type": "code",
   "execution_count": 5,
   "id": "757378dc",
   "metadata": {},
   "outputs": [
    {
     "name": "stdout",
     "output_type": "stream",
     "text": [
      "[1, 1.0, 'abc']\n",
      "['1' '1.0' 'abc']\n",
      "<U32\n"
     ]
    }
   ],
   "source": [
    "listc = [1, 1.0, 'abc']\n",
    "print(listc)\n",
    "\n",
    "a3 = np.array(listc)\n",
    "print(a3)\n",
    "print(a3.dtype)"
   ]
  },
  {
   "cell_type": "code",
   "execution_count": 9,
   "id": "28c91239",
   "metadata": {},
   "outputs": [
    {
     "name": "stdout",
     "output_type": "stream",
     "text": [
      "['a', 'b', 'c', 'd', 'e', 'f', 'g', 'h', 'i', 'j', 'k']\n",
      "['a' 'b' 'c' 'd' 'e' 'f' 'g' 'h' 'i' 'j' 'k']\n",
      "c\n",
      "['c' 'd' 'e' 'f']\n",
      "['c' 'e']\n",
      "['b' 'h' 'f']\n",
      "['d' 'e' 'f' 'g' 'h' 'i' 'j' 'k']\n",
      "['d' 'e' 'f' 'g' 'h' 'i' 'j' 'k']\n"
     ]
    }
   ],
   "source": [
    "listd = list('abcdefghijk')\n",
    "print(listd)\n",
    "\n",
    "a4 = np.array(listd)\n",
    "print(a4)\n",
    "print(a4[2])          # 'c'\n",
    "print(a4[2:6])        # c d e f\n",
    "print(a4[2:6:2])      # c e\n",
    "\n",
    "print(a4[[1,7,5]])\n",
    "\n",
    "filter1 = a4 > 'c'\n",
    "#print(filter1)\n",
    "print(a4[filter1])\n",
    "print(a4[a4>'c'])"
   ]
  },
  {
   "cell_type": "code",
   "execution_count": 10,
   "id": "af7433c6",
   "metadata": {},
   "outputs": [
    {
     "name": "stdout",
     "output_type": "stream",
     "text": [
      "[10 12 14 16 18]\n",
      "[1.5 1.6 1.7 1.8 1.9 2.  2.1 2.2 2.3 2.4]\n"
     ]
    }
   ],
   "source": [
    "a5 = np.arange(10, 20, 2)\n",
    "print(a5)\n",
    "\n",
    "a6 = np.arange(1.5, 2.5, 0.1)\n",
    "print(a6)"
   ]
  },
  {
   "cell_type": "code",
   "execution_count": 11,
   "id": "4fa5183d",
   "metadata": {},
   "outputs": [
    {
     "name": "stdout",
     "output_type": "stream",
     "text": [
      "[1.5        1.61111111 1.72222222 1.83333333 1.94444444 2.05555556\n",
      " 2.16666667 2.27777778 2.38888889 2.5       ]\n"
     ]
    }
   ],
   "source": [
    "a7 = np.linspace(1.5, 2.5, 10)\n",
    "print(a7)"
   ]
  },
  {
   "cell_type": "code",
   "execution_count": 13,
   "id": "de18d0be",
   "metadata": {},
   "outputs": [
    {
     "name": "stdout",
     "output_type": "stream",
     "text": [
      "[0. 0. 0. 0. 0.]\n",
      "[0 0 0 0 0]\n",
      "[1 1 1 1 1 1 1 1 1 1]\n"
     ]
    }
   ],
   "source": [
    "a8 = np.zeros(5)\n",
    "print(a8)\n",
    "a8 = a8.astype(np.int64)\n",
    "print(a8)\n",
    "\n",
    "a9 = np.ones(10, dtype=np.int64)\n",
    "print(a9)"
   ]
  },
  {
   "cell_type": "code",
   "execution_count": 14,
   "id": "4c2db71e",
   "metadata": {},
   "outputs": [
    {
     "name": "stdout",
     "output_type": "stream",
     "text": [
      "[ 5  6  7  8  9 10 11 12 13 14]\n",
      "int64\n",
      "1\n",
      "(10,)\n",
      "10\n"
     ]
    }
   ],
   "source": [
    "a10 = np.arange(5, 15)\n",
    "print(a10)\n",
    "print(a10.dtype)\n",
    "print(a10.ndim)\n",
    "print(a10.shape)\n",
    "print(a10.size)"
   ]
  },
  {
   "cell_type": "code",
   "execution_count": 15,
   "id": "5a0cf36b",
   "metadata": {},
   "outputs": [
    {
     "name": "stdout",
     "output_type": "stream",
     "text": [
      "[11 22 33 44]\n",
      "[ -9 -18 -27 -36]\n",
      "[ 10  40  90 160]\n",
      "[0.1 0.1 0.1 0.1]\n",
      "[1 2 3 4]\n",
      "[ 1  2  3  4 10 20 30 40]\n"
     ]
    }
   ],
   "source": [
    "lista = [1,2,3,4]\n",
    "listb = [10,20,30,40]\n",
    "\n",
    "a1 = np.array(lista)\n",
    "a2 = np.array(listb)\n",
    "print(a1 + a2)\n",
    "print(a1 - a2)\n",
    "print(a1 * a2)\n",
    "print(a1 / a2)\n",
    "print(a1 % a2)\n",
    "print(  np.concatenate((a1, a2))    )"
   ]
  },
  {
   "cell_type": "code",
   "execution_count": 16,
   "id": "652f63e7",
   "metadata": {},
   "outputs": [
    {
     "name": "stdout",
     "output_type": "stream",
     "text": [
      "[1 2 3 4]\n",
      "10\n",
      "10\n",
      "10\n"
     ]
    }
   ],
   "source": [
    "print(a1)\n",
    "print(sum(a1))        # python built-in\n",
    "print(a1.sum())       # ndarray method\n",
    "print(np.sum(a1))     # numpy function"
   ]
  },
  {
   "cell_type": "code",
   "execution_count": 17,
   "id": "c36fbf53",
   "metadata": {},
   "outputs": [
    {
     "name": "stdout",
     "output_type": "stream",
     "text": [
      "[18, 34, 69, 19, 78, 39, 22, 64, 94, 77]\n",
      "514\n",
      "18\n",
      "94\n",
      "26.706553502838965\n",
      "26.706553502838965\n"
     ]
    }
   ],
   "source": [
    "import random\n",
    "\n",
    "random.seed(224)\n",
    "listr = [random.randint(10,100) for _ in range(10)]\n",
    "print(listr)\n",
    "\n",
    "# listr을 ndarray로 변환,\n",
    "# - shape확인, sum, min, max, 표준편차 확인\n",
    "\n",
    "a1 = np.array(listr)\n",
    "print(np.sum(a1))\n",
    "print(np.min(a1))\n",
    "print(np.max(a1))\n",
    "print(np.std(a1))\n",
    "print(np.std(listr))"
   ]
  },
  {
   "cell_type": "code",
   "execution_count": null,
   "id": "3d2328dd",
   "metadata": {},
   "outputs": [],
   "source": []
  }
 ],
 "metadata": {
  "kernelspec": {
   "display_name": "Python 3 (ipykernel)",
   "language": "python",
   "name": "python3"
  },
  "language_info": {
   "codemirror_mode": {
    "name": "ipython",
    "version": 3
   },
   "file_extension": ".py",
   "mimetype": "text/x-python",
   "name": "python",
   "nbconvert_exporter": "python",
   "pygments_lexer": "ipython3",
   "version": "3.10.6"
  }
 },
 "nbformat": 4,
 "nbformat_minor": 5
}
