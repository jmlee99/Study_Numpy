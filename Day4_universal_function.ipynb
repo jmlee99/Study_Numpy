{
 "cells": [
  {
   "cell_type": "code",
   "execution_count": 11,
   "id": "d3cb74ea",
   "metadata": {},
   "outputs": [
    {
     "name": "stdout",
     "output_type": "stream",
     "text": [
      "[[ 0  1  2  3  4  5]\n",
      " [ 6  7  8  9 10 11]\n",
      " [12 13 14 15 16 17]\n",
      " [18 19 20 21 22 23]\n",
      " [24 25 26 27 28 29]]\n",
      "np.sum: [ 15  51  87 123 159]\n",
      "[ 6 24 42 60 78]\n",
      "[[  0   1   3   6  10  15]\n",
      " [  6  13  21  30  40  51]\n",
      " [ 12  25  39  54  70  87]\n",
      " [ 18  37  57  78 100 123]\n",
      " [ 24  49  75 102 130 159]]\n",
      "[[ 1  5  9]\n",
      " [13 17 21]\n",
      " [25 29 33]\n",
      " [37 41 45]\n",
      " [49 53 57]]\n",
      "None\n",
      "[[10 21 32 43 54 65]\n",
      " [ 6  7  8  9 10 11]\n",
      " [22 33 44 55 66 77]\n",
      " [18 19 20 21 22 23]\n",
      " [34 45 56 67 78 89]]\n"
     ]
    }
   ],
   "source": [
    "import numpy as np\n",
    "\n",
    "a1 = np.arange(30).reshape(5,6)\n",
    "print(a1)\n",
    "\n",
    "print('np.sum:', np.sum(a1, axis = 1)) # 행을 기준으로 더함\n",
    "\n",
    "#add는 universal function이다., method = reduce\n",
    "print(np.add.reduce(a1, axis = 1, where=a1%2==0)) #행을 기준으로 더하지만 조건 추가 가능 (where=a1%2==0), 짝수만 더하는 조건\n",
    "\n",
    "#method = accumulate\n",
    "print(np.add.accumulate(a1, axis = 1)) # axis=1을 기준으로 누적\n",
    "\n",
    "#method = reduceat\n",
    "print(np.add.reduceat(a1, [0,2,4], axis=1)) #[start, stop=start, stop]\n",
    "#method = at\n",
    "print(np.add.at(a1, [0,2,4], [10,20,30,40,50,60]))   # in-place axis=0을 따라 하나걸러 하나에 더해준다.\n",
    "print(a1)"
   ]
  },
  {
   "cell_type": "code",
   "execution_count": 15,
   "id": "b45be2e0",
   "metadata": {},
   "outputs": [
    {
     "name": "stdout",
     "output_type": "stream",
     "text": [
      "[0 1 2 3 4 5 6 7 8 9] (10,)\n",
      "[100 101 102 103 104] (5,)\n",
      "[[100 101 102 103 104]\n",
      " [101 102 103 104 105]\n",
      " [102 103 104 105 106]\n",
      " [103 104 105 106 107]\n",
      " [104 105 106 107 108]\n",
      " [105 106 107 108 109]\n",
      " [106 107 108 109 110]\n",
      " [107 108 109 110 111]\n",
      " [108 109 110 111 112]\n",
      " [109 110 111 112 113]] (10, 5)\n"
     ]
    }
   ],
   "source": [
    "a2 = np.arange(10)\n",
    "a3 = np.arange(100,105)\n",
    "print(a2, a2.shape)\n",
    "print(a3, a3.shape)\n",
    "#method = outer\n",
    "a4 = np.add.outer(a2, a3)\n",
    "print(a4, a4.shape)"
   ]
  }
 ],
 "metadata": {
  "kernelspec": {
   "display_name": "Python 3 (ipykernel)",
   "language": "python",
   "name": "python3"
  },
  "language_info": {
   "codemirror_mode": {
    "name": "ipython",
    "version": 3
   },
   "file_extension": ".py",
   "mimetype": "text/x-python",
   "name": "python",
   "nbconvert_exporter": "python",
   "pygments_lexer": "ipython3",
   "version": "3.10.6"
  }
 },
 "nbformat": 4,
 "nbformat_minor": 5
}
