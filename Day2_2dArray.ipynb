{
 "cells": [
  {
   "cell_type": "code",
   "execution_count": 1,
   "id": "d80ce024",
   "metadata": {},
   "outputs": [],
   "source": [
    "import numpy as np"
   ]
  },
  {
   "cell_type": "code",
   "execution_count": 2,
   "id": "5b51a4bb",
   "metadata": {},
   "outputs": [
    {
     "name": "stdout",
     "output_type": "stream",
     "text": [
      "[[10 20 30]\n",
      " [40 50 60]]\n"
     ]
    }
   ],
   "source": [
    "lista = [[10, 20, 30],[40, 50 ,60]]\n",
    "\n",
    "a1 = np.array(lista)\n",
    "print(a1)"
   ]
  },
  {
   "cell_type": "code",
   "execution_count": 9,
   "id": "34cce8fe",
   "metadata": {},
   "outputs": [
    {
     "name": "stdout",
     "output_type": "stream",
     "text": [
      "[10 20 30 40 50 60]\n",
      "[ 10  20 100  40  50  60]\n",
      "[[10 20 30]\n",
      " [40 50 60]]\n",
      "************\n",
      "[10 20 30 40 50 60]\n",
      "[ 10  20 100  40  50  60]\n",
      "[[ 10  20 100]\n",
      " [ 40  50  60]]\n"
     ]
    }
   ],
   "source": [
    "# flatten, ravel - 2차원 배열을 1차원으로 바꿔주는 메소드\n",
    "\n",
    "a2 = a1.flatten() # 1차로 바꿘 배열을 바꾸면 원래 2차원 배열의 값은 그대로 유지 - return copy(복사본에 작성)\n",
    "print(a2)\n",
    "a2[2] = 100\n",
    "print(a2)\n",
    "print(a1)\n",
    "print('************')\n",
    "\n",
    "a3 = a1.ravel() # 1차원으로 바뀐 배열을 바꾸면 원래 2차원 배열의 값도 바뀜 - return reference(원본에 작성)\n",
    "print(a3)\n",
    "a3[2] = 100\n",
    "print(a3)\n",
    "print(a1)"
   ]
  },
  {
   "cell_type": "code",
   "execution_count": 16,
   "id": "091d3c27",
   "metadata": {},
   "outputs": [
    {
     "name": "stdout",
     "output_type": "stream",
     "text": [
      "[[10 11 12 13 14]\n",
      " [15 16 17 18 19]] (2, 5)\n",
      "[[110 111 112 113 114]\n",
      " [115 116 117 118 119]] (2, 5)\n"
     ]
    }
   ],
   "source": [
    "# concatenate\n",
    "# numpy.concatenate((a1, a2, ...), axis=0, out=None, dtype=None, casting=\"same_kind\") - axis=0이 deflaut값이다.\n",
    "\n",
    "a1 = np.arange(10,20).reshape(2,5)\n",
    "a2 = np.arange(110,120).reshape(2,5)\n",
    "print(a1, a1.shape)\n",
    "print(a2, a2.shape)\n",
    "\n",
    "a5 = np.concatenate((a1,a2), axis = 1) # axis = 1이면 옆으로, axis = 0 이면 밑으로 붙인다.\n",
    "#np.hstack((a1,a2)) # axis = 1과 동일\n",
    "#np.vstack((a1,a2)) # axis = 0 과 동일"
   ]
  },
  {
   "cell_type": "code",
   "execution_count": 26,
   "id": "37f3863d",
   "metadata": {},
   "outputs": [
    {
     "name": "stdout",
     "output_type": "stream",
     "text": [
      "[[ 10  11  12  13  14 110 111 112 113 114]\n",
      " [ 15  16  17  18  19 115 116 117 118 119]]\n",
      "[[10 11]\n",
      " [15 16]]\n",
      "[[12 13]\n",
      " [17 18]]\n",
      "[[ 14 110]\n",
      " [ 19 115]]\n",
      "[[111 112]\n",
      " [116 117]]\n",
      "[[113 114]\n",
      " [118 119]]\n",
      "[]\n",
      "[]\n",
      "[]\n",
      "[]\n"
     ]
    }
   ],
   "source": [
    "print(a5)\n",
    "np.hsplit(a5, 2) # 2로 하면 수평 방향으로 2개를 짤라준다.\n",
    "#np.hsplit(a5, 5) # 5 - 5개로 짤라준다._ 밑에 것과 똑같은 역할을 해준다.\n",
    "#a5[:, 2:4]\n",
    "#a5[:, 4:6]\n",
    "#a5[:, 6:8]\n",
    "#a5[:, 8:10]\n",
    "for i in range(0,9):\n",
    "    print(a5[:, i*2:(i*2)+2])"
   ]
  },
  {
   "cell_type": "code",
   "execution_count": 30,
   "id": "7d75774e",
   "metadata": {},
   "outputs": [
    {
     "name": "stdout",
     "output_type": "stream",
     "text": [
      "[[ 10  15]\n",
      " [ 11  16]\n",
      " [ 12  17]\n",
      " [ 13  18]\n",
      " [ 14  19]\n",
      " [110 115]\n",
      " [111 116]\n",
      " [112 117]\n",
      " [113 118]\n",
      " [114 119]]\n"
     ]
    },
    {
     "data": {
      "text/plain": [
       "[array([[10, 15],\n",
       "        [11, 16]]),\n",
       " array([[12, 17],\n",
       "        [13, 18]]),\n",
       " array([[ 14,  19],\n",
       "        [110, 115]]),\n",
       " array([[111, 116],\n",
       "        [112, 117]]),\n",
       " array([[113, 118],\n",
       "        [114, 119]])]"
      ]
     },
     "execution_count": 30,
     "metadata": {},
     "output_type": "execute_result"
    }
   ],
   "source": [
    "a6 = a5.T\n",
    "print(a6)\n",
    "np.vsplit(a6, 5)"
   ]
  }
 ],
 "metadata": {
  "kernelspec": {
   "display_name": "Python 3 (ipykernel)",
   "language": "python",
   "name": "python3"
  },
  "language_info": {
   "codemirror_mode": {
    "name": "ipython",
    "version": 3
   },
   "file_extension": ".py",
   "mimetype": "text/x-python",
   "name": "python",
   "nbconvert_exporter": "python",
   "pygments_lexer": "ipython3",
   "version": "3.10.6"
  }
 },
 "nbformat": 4,
 "nbformat_minor": 5
}
