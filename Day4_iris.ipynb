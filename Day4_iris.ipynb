{
 "cells": [
  {
   "cell_type": "code",
   "execution_count": 4,
   "id": "d3e0d644",
   "metadata": {},
   "outputs": [
    {
     "name": "stdout",
     "output_type": "stream",
     "text": [
      "[[5.1 3.5 1.4 0.2 'Iris-setosa']\n",
      " [4.9 3.0 1.4 0.2 'Iris-setosa']\n",
      " [4.7 3.2 1.3 0.2 'Iris-setosa']\n",
      " [4.6 3.1 1.5 0.2 'Iris-setosa']\n",
      " [5.0 3.6 1.4 0.2 'Iris-setosa']] (150, 5)\n"
     ]
    }
   ],
   "source": [
    "import numpy as np\n",
    "import pandas as pd\n",
    "import matplotlib.pyplot as plt\n",
    "\n",
    "url = 'https://archive.ics.uci.edu/ml/machine-learning-databases/iris/iris.data'\n",
    "pd_data = pd.read_csv(url, header = None)\n",
    "np_data = pd_data.to_numpy()\n",
    "print(np_data[:5], np_data.shape)"
   ]
  },
  {
   "cell_type": "code",
   "execution_count": 6,
   "id": "9cc727e8",
   "metadata": {},
   "outputs": [
    {
     "data": {
      "text/plain": [
       "<matplotlib.collections.PathCollection at 0x7f513c753310>"
      ]
     },
     "execution_count": 6,
     "metadata": {},
     "output_type": "execute_result"
    },
    {
     "data": {
      "image/png": "[encoded data removed]",
      "text/plain": [
       "<Figure size 432x288 with 1 Axes>"
      ]
     },
     "metadata": {
      "needs_background": "light"
     },
     "output_type": "display_data"
    }
   ],
   "source": [
    "# 꽃 데이터 총 3종류 1종류 당 50개씩 존재\n",
    "sub_data = np_data[:50, [0,1]].astype(np.float64) # == sub_data = np_data[:, :2]\n",
    "_, axe = plt.subplots()\n",
    "axe.scatter(sub_data[:,0], sub_data[:,1])"
   ]
  },
  {
   "cell_type": "code",
   "execution_count": 12,
   "id": "80d30676",
   "metadata": {},
   "outputs": [
    {
     "name": "stdout",
     "output_type": "stream",
     "text": [
      "0.8072336651226961 -0.6230117276042169\n"
     ]
    },
    {
     "data": {
      "text/plain": [
       "[<matplotlib.lines.Line2D at 0x7f513c6199f0>]"
      ]
     },
     "execution_count": 12,
     "metadata": {},
     "output_type": "execute_result"
    },
    {
     "data": {
      "image/png": "[encoded data removed]",
      "text/plain": [
       "<Figure size 432x288 with 1 Axes>"
      ]
     },
     "metadata": {
      "needs_background": "light"
     },
     "output_type": "display_data"
    }
   ],
   "source": [
    "# 회귀성 찾기\n",
    "# y = ax + b\n",
    "# a = (x와 y의 상관관계 계수) * (y std_dev / x std_dev)\n",
    "# b = mean_y - (a*mean_x)\n",
    "xs = sub_data[:, 0] # 꽃 - 길이\n",
    "ys = sub_data[:, 1] # 꽃 - 폭\n",
    "\n",
    "# 상관관계 계수 구하기 \n",
    "corr = np.corrcoef(xs, ys)[0, 1]\n",
    "std_y = np.std(ys)\n",
    "std_x = np.std(xs)\n",
    "mean_y = np.mean(ys)\n",
    "mean_x = np.mean(xs)\n",
    "\n",
    "a = corr * (std_y/std_x)\n",
    "b = mean_y - (a * mean_x)\n",
    "print(a, b)\n",
    "\n",
    "_, axe = plt.subplots()\n",
    "axe.scatter(xs, ys)\n",
    "axe.plot(np.linspace(4.4, 5.8, 10), a*np.linspace(4.4, 5.8, 10)+b )"
   ]
  },
  {
   "cell_type": "code",
   "execution_count": 19,
   "id": "5e061a41",
   "metadata": {},
   "outputs": [
    {
     "name": "stdout",
     "output_type": "stream",
     "text": [
      "[3.49387996 3.33243323 3.1709865  3.09026313 3.4131566  3.73605006\n",
      " 3.09026313 3.4131566  2.9288164  3.33243323 3.73605006 3.25170986\n",
      " 3.25170986 2.84809303 4.05894353 3.97822016 3.73605006 3.49387996\n",
      " 3.97822016 3.49387996 3.73605006 3.49387996 3.09026313 3.49387996\n",
      " 3.25170986 3.4131566  3.4131566  3.57460333 3.57460333 3.1709865\n",
      " 3.25170986 3.73605006 3.57460333 3.81677343 3.33243323 3.4131566\n",
      " 3.81677343 3.33243323 2.9288164  3.49387996 3.4131566  3.00953977\n",
      " 2.9288164  3.4131566  3.49387996 3.25170986 3.49387996 3.09026313\n",
      " 3.6553267  3.4131566 ]\n",
      "3.146569429387998\n"
     ]
    }
   ],
   "source": [
    "# 에러 값을 구해보자 \n",
    "# y = 0.81x - 0.62\n",
    "# y = ax + b\n",
    "#print(xs)\n",
    "#print(ys)  # actual \n",
    "ys_pred = a*xs+b  # pred, 예측값\n",
    "print(ys_pred)\n",
    "err = ys_pred - ys\n",
    "\n",
    "# SSE : squared sum of error\n",
    "print(np.sum(err**2))"
   ]
  },
  {
   "cell_type": "code",
   "execution_count": 42,
   "id": "17627534",
   "metadata": {},
   "outputs": [
    {
     "name": "stdout",
     "output_type": "stream",
     "text": [
      "0.30630821115803575\n",
      "0.18926247288503265 -0.03308026030368777\n",
      "sse: 0.5103579175704989\n"
     ]
    },
    {
     "data": {
      "image/png": "[encoded data removed]",
      "text/plain": [
       "<Figure size 432x288 with 1 Axes>"
      ]
     },
     "metadata": {
      "needs_background": "light"
     },
     "output_type": "display_data"
    }
   ],
   "source": [
    "xs = np_data[:50, 2].astype(np.float64) # 첫번째 품종만\n",
    "ys = np_data[:50, 3].astype(np.float64)\n",
    "#print(xs) # 잎 - 길이\n",
    "#print(ys) # 잎 - 폭\n",
    "\n",
    "corr = np.corrcoef(xs, ys)[0, 1]\n",
    "print(corr)\n",
    "std_y = np.std(ys)\n",
    "std_x = np.std(xs)\n",
    "mean_y = np.mean(ys)\n",
    "mean_x = np.mean(xs)\n",
    "\n",
    "slope = corr * (std_y/std_x)\n",
    "intercept = mean_y - (slope * mean_x)\n",
    "print(slope, intercept)\n",
    "\n",
    "_, axe = plt.subplots()\n",
    "axe.scatter(xs, ys)\n",
    "#회귀선 그리기(예상값)\n",
    "axe.plot(np.linspace(1.0, 1.8, 10), np.linspace(1.0, 1.8, 10)*slope+intercept)\n",
    "\n",
    "ys_pred = xs*slope+intercept\n",
    "err = ys_pred - ys\n",
    "sse_value = np.sum(err**2)\n",
    "print('sse:', sse_value)"
   ]
  }
 ],
 "metadata": {
  "kernelspec": {
   "display_name": "Python 3 (ipykernel)",
   "language": "python",
   "name": "python3"
  },
  "language_info": {
   "codemirror_mode": {
    "name": "ipython",
    "version": 3
   },
   "file_extension": ".py",
   "mimetype": "text/x-python",
   "name": "python",
   "nbconvert_exporter": "python",
   "pygments_lexer": "ipython3",
   "version": "3.10.6"
  }
 },
 "nbformat": 4,
 "nbformat_minor": 5
}
