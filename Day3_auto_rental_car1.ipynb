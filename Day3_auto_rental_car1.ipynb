{
 "cells": [
  {
   "cell_type": "markdown",
   "id": "3f63777a",
   "metadata": {},
   "source": [
    "#### 전국 렌터카 업체정보 표준데이터\n",
    "\n",
    "   - 전국 렌터카 업체 수\n",
    "    \n",
    "   \n",
    "   - 소재지(시도)별 렌터카 업체 수\n",
    "\n",
    "   \n",
    "   - 전국 렌터카 차량 대수\n",
    "   \n",
    "   \n",
    "   - 소재지(시도)별 렌터카 대수(업체별 합, 평균)"
   ]
  },
  {
   "cell_type": "code",
   "execution_count": 36,
   "id": "e8c263b5",
   "metadata": {},
   "outputs": [
    {
     "name": "stdout",
     "output_type": "stream",
     "text": [
      "[['업체명' '사업장구분' '소재지도로명주소' '소재지지번주소' '위도' '경도' '차고지도로명주소' '차고지지번주소'\n",
      "  '보유차고지수용능력' '자동차총보유대수' '승용차보유대수' '승합차보유대수' '전기승용자동차보유대수' '전기승합자동차보유대수'\n",
      "  '경차요금' '소형차요금' '중형차요금' '대형차요금' '승합차요금' '레저용차요금' '수입차요금' '평일운영시작시각'\n",
      "  '평일운영종료시각' '주말운영시작시각' '주말운영종료시각' '공휴일운영시작시각' '공휴일운영종료시각' '휴무일' '홈페이지주소'\n",
      "  '대표자명' '전화번호' '데이터기준일자' '제공기관코드' '제공기관명']\n",
      " ['㈜디디렌트카' '주사업장' '서울특별시 노원구 동일로250길 69(상계동)' 'nan' '37.6828556660'\n",
      "  '127.0590885081' '서울특별시 노원구 상계동 1227, 1229, 1230' 'nan' 'nan' '60' '55'\n",
      "  '5' '0' '0' 'nan' 'nan' 'nan' 'nan' 'nan' 'nan' 'nan' '00:00' '23:59'\n",
      "  'nan' 'nan' 'nan' 'nan' 'nan' 'nan' 'nan' '02-937-9963' '2022-08-17'\n",
      "  '3100000' '서울특별시 노원구']\n",
      " ['인천공항렌트카㈜' '주사업장' '서울특별시 노원구 동일로 178길 10 201호(공릉동)' 'nan' '37.621287'\n",
      "  '127.075141' '서울특별시 양천구 목동서로 225' 'nan' 'nan' '66' '4' '62' '0' '0'\n",
      "  'nan' 'nan' 'nan' 'nan' 'nan' 'nan' 'nan' '00:00' '23:59' 'nan' 'nan'\n",
      "  'nan' 'nan' 'nan' 'nan' 'nan' '02-1599-2924' '2022-08-17' '3100000'\n",
      "  '서울특별시 노원구']\n",
      " ['브이아이피렌트카㈜' '주사업장' '강원도 강릉시 하슬라로 18(홍제동)' '강원도 강릉시 홍제동 991'\n",
      "  '37.75515453' '128.8799999' '강원도 강릉시 하슬라로 18(홍제동)' 'nan' 'nan' '83'\n",
      "  '82' '1' '0' '0' 'nan' 'nan' 'nan' 'nan' 'nan' 'nan' 'nan' '09:00'\n",
      "  '20:00' 'nan' 'nan' 'nan' 'nan' 'nan' 'nan' '조대현' '033-643-4664'\n",
      "  '2022-12-09' '4200000' '강원도 강릉시']\n",
      " ['(유)더굿카' '주사업장' '강원도 강릉시 하슬라로 18(홍제동)' '강원도 강릉시 홍제동 991' '37.75515453'\n",
      "  '128.8799999' '강원도 강릉시 회산동 235-7' 'nan' 'nan' '184' '179' '5' '0' '0'\n",
      "  'nan' 'nan' 'nan' 'nan' 'nan' 'nan' 'nan' '08:00' '21:30' 'nan' 'nan'\n",
      "  'nan' 'nan' 'nan' 'nan' '박종대' '033-655-7977' '2022-12-09' '4200000'\n",
      "  '강원도 강릉시']]\n",
      "(0, '업체명')\n",
      "(1, '사업장구분')\n",
      "(2, '소재지도로명주소')\n",
      "(3, '소재지지번주소')\n",
      "(4, '위도')\n",
      "(5, '경도')\n",
      "(6, '차고지도로명주소')\n",
      "(7, '차고지지번주소')\n",
      "(8, '보유차고지수용능력')\n",
      "(9, '자동차총보유대수')\n",
      "(10, '승용차보유대수')\n",
      "(11, '승합차보유대수')\n",
      "(12, '전기승용자동차보유대수')\n",
      "(13, '전기승합자동차보유대수')\n",
      "(14, '경차요금')\n",
      "(15, '소형차요금')\n",
      "(16, '중형차요금')\n",
      "(17, '대형차요금')\n",
      "(18, '승합차요금')\n",
      "(19, '레저용차요금')\n",
      "(20, '수입차요금')\n",
      "(21, '평일운영시작시각')\n",
      "(22, '평일운영종료시각')\n",
      "(23, '주말운영시작시각')\n",
      "(24, '주말운영종료시각')\n",
      "(25, '공휴일운영시작시각')\n",
      "(26, '공휴일운영종료시각')\n",
      "(27, '휴무일')\n",
      "(28, '홈페이지주소')\n",
      "(29, '대표자명')\n",
      "(30, '전화번호')\n",
      "(31, '데이터기준일자')\n",
      "(32, '제공기관코드')\n",
      "(33, '제공기관명')\n"
     ]
    }
   ],
   "source": [
    "import numpy as np\n",
    "import pandas as pd\n",
    "pd_data = pd.read_csv('전국렌터카업체정보표준데이터.csv', encoding = 'cp949', header=None)\n",
    "np_data = pd_data.to_numpy().astype('str') # nan같은 이상치를 예외처리를 하기위해 타입을 'str'로 설정\n",
    "\n",
    "print(np_data[:5])\n",
    "for e in enumerate(np_data[0]):\n",
    "    print(e)"
   ]
  },
  {
   "cell_type": "code",
   "execution_count": 37,
   "id": "95cb283b",
   "metadata": {},
   "outputs": [
    {
     "name": "stdout",
     "output_type": "stream",
     "text": [
      "전국 렌트카 업체 수 : 4499\n"
     ]
    }
   ],
   "source": [
    "# 전국 렌터카 업체 수\n",
    "np_data.shape\n",
    "\n",
    "unique_array = np.unique(np_data[1:,0])\n",
    "print('전국 렌트카 업체 수 :', len(unique_array))"
   ]
  },
  {
   "cell_type": "code",
   "execution_count": 38,
   "id": "44234c63",
   "metadata": {},
   "outputs": [
    {
     "name": "stdout",
     "output_type": "stream",
     "text": [
      "{'강원도': 305, '경기도': 1204, '경상남도': 352, '경상북도': 498, '광주광역시': 177, '대구광역시': 154, '대전광역시': 264, '부산광역시': 241, '서울특별시': 922, '세종특별자치시': 28, '안천광역시': 1, '울산광역시': 120, '인천광역시': 278, '전라남도': 272, '전라북도': 188, '제주특별자치도': 244, '충청남도': 287, '충청북도': 218}\n"
     ]
    }
   ],
   "source": [
    "# 소재지(시도)별 렌터카 업체 수(2, '소재지도로명주소')(3, '소재지지번주소')(6, '차고지도로명주소')(7, '차고지지번주소')\n",
    "# 모든 주소를 합치기 위한 코드\n",
    "Roadname_data = np_data[1:, 2]  # 소재지도로명주소\n",
    "Adress_data = np_data[1:, 3]    # 소재지지번주소\n",
    "area_names = []\n",
    "for i, addr in enumerate(Roadname_data):\n",
    "    if addr == 'nan':\n",
    "        for m in [3,6,7]:\n",
    "            addr = np_data[i, m]\n",
    "            if addr != 'nan':\n",
    "                break\n",
    "    area_names.append(addr.split()[0]) # 리스트로 바뀜\n",
    "np.unique(area_names)\n",
    "\n",
    "# 모든 지역명을 통일하기 위한 코드(데이터 전처리)\n",
    "for i, e in enumerate(area_names):\n",
    "    if e == '강원':\n",
    "        area_names[i] = '강원도'\n",
    "    elif e == '강진군':\n",
    "        area_names[i] = '전라남도'\n",
    "    elif e == '경남남도':\n",
    "        area_names[i] = '경상남도'\n",
    "    elif e == '경주시':\n",
    "        area_names[i] = '경상북도'\n",
    "    elif e == '공주시':\n",
    "        area_names[i] = '충청남도'\n",
    "    elif e == '동대문구':\n",
    "        area_names[i] = '서울특별시'\n",
    "    elif e == '동작구':\n",
    "        area_names[i] = '서울특별시'\n",
    "    elif e == '서울특별기':\n",
    "        area_names[i] = '서울특별시'\n",
    "    elif e == '서울특별시강남구':\n",
    "        area_names[i] = '서울특별시'\n",
    "    elif e == '부산시':\n",
    "        area_names[i] = '부산광역시'\n",
    "    elif e == '용인시':\n",
    "        area_names[i] = '경기도'\n",
    "    elif e == '울산':\n",
    "        area_names[i] = '울산광역시'\n",
    "    elif e == '울산시':\n",
    "        area_names[i] = '울산광역시'\n",
    "area, cnt = np.unique(area_names, return_counts = True)\n",
    "d2 = dict(zip(area, cnt)) # 딕셔너리로 코드 정리\n",
    "print(d2)"
   ]
  },
  {
   "cell_type": "code",
   "execution_count": 39,
   "id": "25755df6",
   "metadata": {},
   "outputs": [
    {
     "name": "stdout",
     "output_type": "stream",
     "text": [
      "전국 렌터카 차량 대수 : 1576207\n"
     ]
    }
   ],
   "source": [
    "# 전국 렌터카 차량 대수\n",
    "\n",
    "sub_data = np_data[1:,9].astype(np.int64) #(9, '자동차총보유대수')\n",
    "print('전국 렌터카 차량 대수 :', sub_data.sum())"
   ]
  },
  {
   "cell_type": "code",
   "execution_count": 43,
   "id": "e5e4e266",
   "metadata": {},
   "outputs": [
    {
     "name": "stdout",
     "output_type": "stream",
     "text": [
      "['서울특별시' '서울특별시' '강원도' ... '서울특별시' '서울특별시' '서울특별시']\n",
      "강원도 9279\n",
      "경기도 70225\n",
      "경상남도 49572\n",
      "경상북도 12586\n",
      "광주광역시 16443\n",
      "대구광역시 18340\n",
      "대전광역시 13754\n",
      "부산광역시 91962\n",
      "서울특별시 135948\n",
      "세종특별자치시 1371\n",
      "안천광역시 0\n",
      "울산광역시 6598\n",
      "인천광역시 414679\n",
      "전라남도 324360\n",
      "전라북도 50565\n",
      "제주특별자치도 331249\n",
      "충청남도 14979\n",
      "충청북도 14297\n"
     ]
    }
   ],
   "source": [
    "# 소재지(시도)별 렌터카 대수(업체별 합, 평균)\n",
    "\n",
    "np_area_names = np.array(area_names) # 리스트로 된 area_names 를 numpy로 바꿈\n",
    "\n",
    "for name in np.unique(np_area_names): # 중복된 값을 하나로 들고오기 위해 조건 설정\n",
    "    filter1 = np_area_names == name\n",
    "    print(name, sub_data[filter1].sum())"
   ]
  }
 ],
 "metadata": {
  "kernelspec": {
   "display_name": "Python 3 (ipykernel)",
   "language": "python",
   "name": "python3"
  },
  "language_info": {
   "codemirror_mode": {
    "name": "ipython",
    "version": 3
   },
   "file_extension": ".py",
   "mimetype": "text/x-python",
   "name": "python",
   "nbconvert_exporter": "python",
   "pygments_lexer": "ipython3",
   "version": "3.10.6"
  }
 },
 "nbformat": 4,
 "nbformat_minor": 5
}
