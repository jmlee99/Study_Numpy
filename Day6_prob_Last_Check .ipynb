{
 "cells": [
  {
   "cell_type": "code",
   "execution_count": 70,
   "id": "f740077f",
   "metadata": {},
   "outputs": [],
   "source": [
    "import numpy as np\n",
    "import matplotlib.pyplot as plt\n",
    "from scipy import stats"
   ]
  },
  {
   "cell_type": "code",
   "execution_count": 71,
   "id": "9390b2a8",
   "metadata": {},
   "outputs": [],
   "source": [
    "# 확률: 특정 사건이 발생하는 빈도 / 전체 발생가능한 경우의 수\n",
    "\n",
    "# 주사위를 3번 던져 나올 수 있는 모든 경우의 수: 6, 6, 6 == 6**3\n",
    "\n",
    "# 1에서부터 6까지 숫자가 적힌 공이 든 박스에서 3개의 공을 꺼낼 때 \n",
    "# 나올 수 있는 모든 경우의 수 6, 5, 4 == 6*5*4\n",
    "# -- without replacement : perm, combi\n",
    "\n",
    "# 1에서부터 6까지 숫자가 적힌 공이 든 박스에서 3개의 공을 꺼내면서\n",
    "# 꺼낸공을 다시 집어널고, 섞어서 뽑았을 때 나올수 있는 모든 경우의 수 == 6*6*6\n",
    "# -- with replacement"
   ]
  },
  {
   "cell_type": "code",
   "execution_count": 72,
   "id": "dfac67ea",
   "metadata": {},
   "outputs": [],
   "source": [
    "# permutation (순열) : 순서개념 있음 ex. (a, b, c) != (b, c, a) \n",
    "# --without replacement\n",
    "\n",
    "# 3개의 숫자를 정렬하는 방법의 갯수 : 3 * 2 * 1 \n",
    "# n개의 숫자를 정렬하는 방법의 갯수 --> n!(n 펙토리얼)\n",
    "\n",
    "# 1에서 부터 6까지 숫자 중 2개를 정렬하는 방법의 갯수 n : (6*5*4*3*2*1)/(4*3*2*1) == n!/(n-r)!\n",
    "\n",
    "# n = 6\n",
    "# r = 2\n",
    "\n",
    "# n! "
   ]
  },
  {
   "cell_type": "code",
   "execution_count": 73,
   "id": "1706ba17",
   "metadata": {},
   "outputs": [],
   "source": [
    "# 순열 구하는 방법\n",
    "\n",
    "def fact_1(n):\n",
    "    ret_value = 1\n",
    "    values = [x for x in range(n+1)] # stop가 n에서 걸리게 하기 위해 n+1을 범위에 둔다.\n",
    "    for i in values[1:]:\n",
    "        ret_value = ret_value * i\n",
    "    return ret_value\n",
    "\n",
    "def fact_2(n):\n",
    "    ret_value = 1\n",
    "    values = [x for x in range(n+1)] # stop가 n에서 걸리게 하기 위해 n+1을 범위에 둔다.\n",
    "    for i in range(n):\n",
    "        ret_value = ret_value * (i+1)\n",
    "    return ret_value\n",
    "\n",
    "def fact_3(n):\n",
    "    ret_value = 1\n",
    "    while n>1:\n",
    "        ret_value = ret_value * n\n",
    "        n = n-1\n",
    "    return ret_value\n",
    "\n",
    "def fact_r(n):    # recursive, 재귀함수: 자기가 자기자신을 부르는(call) 함수\n",
    "    if n==2:\n",
    "        return n\n",
    "    return n * fact_r(n-1)  # n! = n*(n-1)\n",
    "\n",
    "def fact_np(n):\n",
    "    return np.arange(2, n+1).prod() # 그 안의 수를 전부 곱해주는 메소드 prod()\n",
    "\n",
    "fact_np(6)\n",
    "\n",
    "def perm(n, r): # n은 총 갯수, r은 몇개를 고르는지\n",
    "    return fact_np(n)/fact_np(n-r)"
   ]
  },
  {
   "cell_type": "code",
   "execution_count": 74,
   "id": "398f349f",
   "metadata": {},
   "outputs": [],
   "source": [
    "# combination (조합) : 순열에서 구성이 같은 것을 제외, 순서의 개념이 없음 (1, 6), (6, 1) --> 같은 것 1개로 count\n",
    "\n",
    "# permutation / r! : 순서는 다르고, 구성은 같은 것 제외\n",
    "\n",
    "# n! / r!(n-r)!\n",
    "def combi(n, r):\n",
    "    return perm(n,r)/fact_np(r)"
   ]
  },
  {
   "cell_type": "code",
   "execution_count": 75,
   "id": "96d214c8",
   "metadata": {},
   "outputs": [],
   "source": [
    "# 함수 test 돌렸을 때 오류가 안나면 함수가 잘 구성되었다는 것이다.\n",
    "assert perm(6,2) == 30.0\n",
    "assert perm(6,3) == 120.0\n",
    "assert combi(6,2) == 15.0"
   ]
  },
  {
   "cell_type": "code",
   "execution_count": 76,
   "id": "765f5ac8",
   "metadata": {},
   "outputs": [],
   "source": [
    "def count_with_replacement_order(pool, sel_count):  # all\n",
    "    if sel_count == 1:\n",
    "        return len(pool), [[x] for x in pool]\n",
    "    a, b = count_with_replacement_order(pool, sel_count-1)\n",
    "    r = []\n",
    "    for x in pool:\n",
    "        for b_i in b:\n",
    "            r.append(b_i+[x])\n",
    "    return len(r), r    \n",
    "\n",
    "def perm_pool(pool, r):\n",
    "    if r == 1:\n",
    "        return len(pool), [[x] for x in pool]\n",
    "    ret = []\n",
    "    for x in pool:\n",
    "        pool_copy = [y for y in pool]\n",
    "        pool_copy.remove(x)\n",
    "        a, b = perm_pool(pool_copy, r-1)\n",
    "        for b_i in b:\n",
    "            ret.append(b_i+[x])\n",
    "    return len(ret), ret\n",
    "\n",
    "def combi_pool(pool, r):\n",
    "    a , b = perm_pool(pool, r)\n",
    "    r = []\n",
    "    for b_i in b:\n",
    "        r.append(set(b_i))\n",
    "    f = []\n",
    "    for r_i in r:\n",
    "        if r_i not in f:\n",
    "            f.append(r_i)\n",
    "    return len(f), f\n"
   ]
  },
  {
   "cell_type": "code",
   "execution_count": 77,
   "id": "97b21c3d",
   "metadata": {},
   "outputs": [
    {
     "data": {
      "text/plain": [
       "(216,\n",
       " [['a', 'a', 'a'],\n",
       "  ['b', 'a', 'a'],\n",
       "  ['c', 'a', 'a'],\n",
       "  ['d', 'a', 'a'],\n",
       "  ['e', 'a', 'a'],\n",
       "  ['f', 'a', 'a'],\n",
       "  ['a', 'b', 'a'],\n",
       "  ['b', 'b', 'a'],\n",
       "  ['c', 'b', 'a'],\n",
       "  ['d', 'b', 'a'],\n",
       "  ['e', 'b', 'a'],\n",
       "  ['f', 'b', 'a'],\n",
       "  ['a', 'c', 'a'],\n",
       "  ['b', 'c', 'a'],\n",
       "  ['c', 'c', 'a'],\n",
       "  ['d', 'c', 'a'],\n",
       "  ['e', 'c', 'a'],\n",
       "  ['f', 'c', 'a'],\n",
       "  ['a', 'd', 'a'],\n",
       "  ['b', 'd', 'a'],\n",
       "  ['c', 'd', 'a'],\n",
       "  ['d', 'd', 'a'],\n",
       "  ['e', 'd', 'a'],\n",
       "  ['f', 'd', 'a'],\n",
       "  ['a', 'e', 'a'],\n",
       "  ['b', 'e', 'a'],\n",
       "  ['c', 'e', 'a'],\n",
       "  ['d', 'e', 'a'],\n",
       "  ['e', 'e', 'a'],\n",
       "  ['f', 'e', 'a'],\n",
       "  ['a', 'f', 'a'],\n",
       "  ['b', 'f', 'a'],\n",
       "  ['c', 'f', 'a'],\n",
       "  ['d', 'f', 'a'],\n",
       "  ['e', 'f', 'a'],\n",
       "  ['f', 'f', 'a'],\n",
       "  ['a', 'a', 'b'],\n",
       "  ['b', 'a', 'b'],\n",
       "  ['c', 'a', 'b'],\n",
       "  ['d', 'a', 'b'],\n",
       "  ['e', 'a', 'b'],\n",
       "  ['f', 'a', 'b'],\n",
       "  ['a', 'b', 'b'],\n",
       "  ['b', 'b', 'b'],\n",
       "  ['c', 'b', 'b'],\n",
       "  ['d', 'b', 'b'],\n",
       "  ['e', 'b', 'b'],\n",
       "  ['f', 'b', 'b'],\n",
       "  ['a', 'c', 'b'],\n",
       "  ['b', 'c', 'b'],\n",
       "  ['c', 'c', 'b'],\n",
       "  ['d', 'c', 'b'],\n",
       "  ['e', 'c', 'b'],\n",
       "  ['f', 'c', 'b'],\n",
       "  ['a', 'd', 'b'],\n",
       "  ['b', 'd', 'b'],\n",
       "  ['c', 'd', 'b'],\n",
       "  ['d', 'd', 'b'],\n",
       "  ['e', 'd', 'b'],\n",
       "  ['f', 'd', 'b'],\n",
       "  ['a', 'e', 'b'],\n",
       "  ['b', 'e', 'b'],\n",
       "  ['c', 'e', 'b'],\n",
       "  ['d', 'e', 'b'],\n",
       "  ['e', 'e', 'b'],\n",
       "  ['f', 'e', 'b'],\n",
       "  ['a', 'f', 'b'],\n",
       "  ['b', 'f', 'b'],\n",
       "  ['c', 'f', 'b'],\n",
       "  ['d', 'f', 'b'],\n",
       "  ['e', 'f', 'b'],\n",
       "  ['f', 'f', 'b'],\n",
       "  ['a', 'a', 'c'],\n",
       "  ['b', 'a', 'c'],\n",
       "  ['c', 'a', 'c'],\n",
       "  ['d', 'a', 'c'],\n",
       "  ['e', 'a', 'c'],\n",
       "  ['f', 'a', 'c'],\n",
       "  ['a', 'b', 'c'],\n",
       "  ['b', 'b', 'c'],\n",
       "  ['c', 'b', 'c'],\n",
       "  ['d', 'b', 'c'],\n",
       "  ['e', 'b', 'c'],\n",
       "  ['f', 'b', 'c'],\n",
       "  ['a', 'c', 'c'],\n",
       "  ['b', 'c', 'c'],\n",
       "  ['c', 'c', 'c'],\n",
       "  ['d', 'c', 'c'],\n",
       "  ['e', 'c', 'c'],\n",
       "  ['f', 'c', 'c'],\n",
       "  ['a', 'd', 'c'],\n",
       "  ['b', 'd', 'c'],\n",
       "  ['c', 'd', 'c'],\n",
       "  ['d', 'd', 'c'],\n",
       "  ['e', 'd', 'c'],\n",
       "  ['f', 'd', 'c'],\n",
       "  ['a', 'e', 'c'],\n",
       "  ['b', 'e', 'c'],\n",
       "  ['c', 'e', 'c'],\n",
       "  ['d', 'e', 'c'],\n",
       "  ['e', 'e', 'c'],\n",
       "  ['f', 'e', 'c'],\n",
       "  ['a', 'f', 'c'],\n",
       "  ['b', 'f', 'c'],\n",
       "  ['c', 'f', 'c'],\n",
       "  ['d', 'f', 'c'],\n",
       "  ['e', 'f', 'c'],\n",
       "  ['f', 'f', 'c'],\n",
       "  ['a', 'a', 'd'],\n",
       "  ['b', 'a', 'd'],\n",
       "  ['c', 'a', 'd'],\n",
       "  ['d', 'a', 'd'],\n",
       "  ['e', 'a', 'd'],\n",
       "  ['f', 'a', 'd'],\n",
       "  ['a', 'b', 'd'],\n",
       "  ['b', 'b', 'd'],\n",
       "  ['c', 'b', 'd'],\n",
       "  ['d', 'b', 'd'],\n",
       "  ['e', 'b', 'd'],\n",
       "  ['f', 'b', 'd'],\n",
       "  ['a', 'c', 'd'],\n",
       "  ['b', 'c', 'd'],\n",
       "  ['c', 'c', 'd'],\n",
       "  ['d', 'c', 'd'],\n",
       "  ['e', 'c', 'd'],\n",
       "  ['f', 'c', 'd'],\n",
       "  ['a', 'd', 'd'],\n",
       "  ['b', 'd', 'd'],\n",
       "  ['c', 'd', 'd'],\n",
       "  ['d', 'd', 'd'],\n",
       "  ['e', 'd', 'd'],\n",
       "  ['f', 'd', 'd'],\n",
       "  ['a', 'e', 'd'],\n",
       "  ['b', 'e', 'd'],\n",
       "  ['c', 'e', 'd'],\n",
       "  ['d', 'e', 'd'],\n",
       "  ['e', 'e', 'd'],\n",
       "  ['f', 'e', 'd'],\n",
       "  ['a', 'f', 'd'],\n",
       "  ['b', 'f', 'd'],\n",
       "  ['c', 'f', 'd'],\n",
       "  ['d', 'f', 'd'],\n",
       "  ['e', 'f', 'd'],\n",
       "  ['f', 'f', 'd'],\n",
       "  ['a', 'a', 'e'],\n",
       "  ['b', 'a', 'e'],\n",
       "  ['c', 'a', 'e'],\n",
       "  ['d', 'a', 'e'],\n",
       "  ['e', 'a', 'e'],\n",
       "  ['f', 'a', 'e'],\n",
       "  ['a', 'b', 'e'],\n",
       "  ['b', 'b', 'e'],\n",
       "  ['c', 'b', 'e'],\n",
       "  ['d', 'b', 'e'],\n",
       "  ['e', 'b', 'e'],\n",
       "  ['f', 'b', 'e'],\n",
       "  ['a', 'c', 'e'],\n",
       "  ['b', 'c', 'e'],\n",
       "  ['c', 'c', 'e'],\n",
       "  ['d', 'c', 'e'],\n",
       "  ['e', 'c', 'e'],\n",
       "  ['f', 'c', 'e'],\n",
       "  ['a', 'd', 'e'],\n",
       "  ['b', 'd', 'e'],\n",
       "  ['c', 'd', 'e'],\n",
       "  ['d', 'd', 'e'],\n",
       "  ['e', 'd', 'e'],\n",
       "  ['f', 'd', 'e'],\n",
       "  ['a', 'e', 'e'],\n",
       "  ['b', 'e', 'e'],\n",
       "  ['c', 'e', 'e'],\n",
       "  ['d', 'e', 'e'],\n",
       "  ['e', 'e', 'e'],\n",
       "  ['f', 'e', 'e'],\n",
       "  ['a', 'f', 'e'],\n",
       "  ['b', 'f', 'e'],\n",
       "  ['c', 'f', 'e'],\n",
       "  ['d', 'f', 'e'],\n",
       "  ['e', 'f', 'e'],\n",
       "  ['f', 'f', 'e'],\n",
       "  ['a', 'a', 'f'],\n",
       "  ['b', 'a', 'f'],\n",
       "  ['c', 'a', 'f'],\n",
       "  ['d', 'a', 'f'],\n",
       "  ['e', 'a', 'f'],\n",
       "  ['f', 'a', 'f'],\n",
       "  ['a', 'b', 'f'],\n",
       "  ['b', 'b', 'f'],\n",
       "  ['c', 'b', 'f'],\n",
       "  ['d', 'b', 'f'],\n",
       "  ['e', 'b', 'f'],\n",
       "  ['f', 'b', 'f'],\n",
       "  ['a', 'c', 'f'],\n",
       "  ['b', 'c', 'f'],\n",
       "  ['c', 'c', 'f'],\n",
       "  ['d', 'c', 'f'],\n",
       "  ['e', 'c', 'f'],\n",
       "  ['f', 'c', 'f'],\n",
       "  ['a', 'd', 'f'],\n",
       "  ['b', 'd', 'f'],\n",
       "  ['c', 'd', 'f'],\n",
       "  ['d', 'd', 'f'],\n",
       "  ['e', 'd', 'f'],\n",
       "  ['f', 'd', 'f'],\n",
       "  ['a', 'e', 'f'],\n",
       "  ['b', 'e', 'f'],\n",
       "  ['c', 'e', 'f'],\n",
       "  ['d', 'e', 'f'],\n",
       "  ['e', 'e', 'f'],\n",
       "  ['f', 'e', 'f'],\n",
       "  ['a', 'f', 'f'],\n",
       "  ['b', 'f', 'f'],\n",
       "  ['c', 'f', 'f'],\n",
       "  ['d', 'f', 'f'],\n",
       "  ['e', 'f', 'f'],\n",
       "  ['f', 'f', 'f']])"
      ]
     },
     "execution_count": 77,
     "metadata": {},
     "output_type": "execute_result"
    }
   ],
   "source": [
    "count_with_replacement_order(list('abcdef'),3) # 꺼내고 다시 집어넣고, 다시 뽑는 경우의 수, 순서 상관 있음"
   ]
  },
  {
   "cell_type": "code",
   "execution_count": 78,
   "id": "0d1746a3",
   "metadata": {},
   "outputs": [
    {
     "data": {
      "text/plain": [
       "(120,\n",
       " [['c', 'b', 'a'],\n",
       "  ['d', 'b', 'a'],\n",
       "  ['e', 'b', 'a'],\n",
       "  ['f', 'b', 'a'],\n",
       "  ['b', 'c', 'a'],\n",
       "  ['d', 'c', 'a'],\n",
       "  ['e', 'c', 'a'],\n",
       "  ['f', 'c', 'a'],\n",
       "  ['b', 'd', 'a'],\n",
       "  ['c', 'd', 'a'],\n",
       "  ['e', 'd', 'a'],\n",
       "  ['f', 'd', 'a'],\n",
       "  ['b', 'e', 'a'],\n",
       "  ['c', 'e', 'a'],\n",
       "  ['d', 'e', 'a'],\n",
       "  ['f', 'e', 'a'],\n",
       "  ['b', 'f', 'a'],\n",
       "  ['c', 'f', 'a'],\n",
       "  ['d', 'f', 'a'],\n",
       "  ['e', 'f', 'a'],\n",
       "  ['c', 'a', 'b'],\n",
       "  ['d', 'a', 'b'],\n",
       "  ['e', 'a', 'b'],\n",
       "  ['f', 'a', 'b'],\n",
       "  ['a', 'c', 'b'],\n",
       "  ['d', 'c', 'b'],\n",
       "  ['e', 'c', 'b'],\n",
       "  ['f', 'c', 'b'],\n",
       "  ['a', 'd', 'b'],\n",
       "  ['c', 'd', 'b'],\n",
       "  ['e', 'd', 'b'],\n",
       "  ['f', 'd', 'b'],\n",
       "  ['a', 'e', 'b'],\n",
       "  ['c', 'e', 'b'],\n",
       "  ['d', 'e', 'b'],\n",
       "  ['f', 'e', 'b'],\n",
       "  ['a', 'f', 'b'],\n",
       "  ['c', 'f', 'b'],\n",
       "  ['d', 'f', 'b'],\n",
       "  ['e', 'f', 'b'],\n",
       "  ['b', 'a', 'c'],\n",
       "  ['d', 'a', 'c'],\n",
       "  ['e', 'a', 'c'],\n",
       "  ['f', 'a', 'c'],\n",
       "  ['a', 'b', 'c'],\n",
       "  ['d', 'b', 'c'],\n",
       "  ['e', 'b', 'c'],\n",
       "  ['f', 'b', 'c'],\n",
       "  ['a', 'd', 'c'],\n",
       "  ['b', 'd', 'c'],\n",
       "  ['e', 'd', 'c'],\n",
       "  ['f', 'd', 'c'],\n",
       "  ['a', 'e', 'c'],\n",
       "  ['b', 'e', 'c'],\n",
       "  ['d', 'e', 'c'],\n",
       "  ['f', 'e', 'c'],\n",
       "  ['a', 'f', 'c'],\n",
       "  ['b', 'f', 'c'],\n",
       "  ['d', 'f', 'c'],\n",
       "  ['e', 'f', 'c'],\n",
       "  ['b', 'a', 'd'],\n",
       "  ['c', 'a', 'd'],\n",
       "  ['e', 'a', 'd'],\n",
       "  ['f', 'a', 'd'],\n",
       "  ['a', 'b', 'd'],\n",
       "  ['c', 'b', 'd'],\n",
       "  ['e', 'b', 'd'],\n",
       "  ['f', 'b', 'd'],\n",
       "  ['a', 'c', 'd'],\n",
       "  ['b', 'c', 'd'],\n",
       "  ['e', 'c', 'd'],\n",
       "  ['f', 'c', 'd'],\n",
       "  ['a', 'e', 'd'],\n",
       "  ['b', 'e', 'd'],\n",
       "  ['c', 'e', 'd'],\n",
       "  ['f', 'e', 'd'],\n",
       "  ['a', 'f', 'd'],\n",
       "  ['b', 'f', 'd'],\n",
       "  ['c', 'f', 'd'],\n",
       "  ['e', 'f', 'd'],\n",
       "  ['b', 'a', 'e'],\n",
       "  ['c', 'a', 'e'],\n",
       "  ['d', 'a', 'e'],\n",
       "  ['f', 'a', 'e'],\n",
       "  ['a', 'b', 'e'],\n",
       "  ['c', 'b', 'e'],\n",
       "  ['d', 'b', 'e'],\n",
       "  ['f', 'b', 'e'],\n",
       "  ['a', 'c', 'e'],\n",
       "  ['b', 'c', 'e'],\n",
       "  ['d', 'c', 'e'],\n",
       "  ['f', 'c', 'e'],\n",
       "  ['a', 'd', 'e'],\n",
       "  ['b', 'd', 'e'],\n",
       "  ['c', 'd', 'e'],\n",
       "  ['f', 'd', 'e'],\n",
       "  ['a', 'f', 'e'],\n",
       "  ['b', 'f', 'e'],\n",
       "  ['c', 'f', 'e'],\n",
       "  ['d', 'f', 'e'],\n",
       "  ['b', 'a', 'f'],\n",
       "  ['c', 'a', 'f'],\n",
       "  ['d', 'a', 'f'],\n",
       "  ['e', 'a', 'f'],\n",
       "  ['a', 'b', 'f'],\n",
       "  ['c', 'b', 'f'],\n",
       "  ['d', 'b', 'f'],\n",
       "  ['e', 'b', 'f'],\n",
       "  ['a', 'c', 'f'],\n",
       "  ['b', 'c', 'f'],\n",
       "  ['d', 'c', 'f'],\n",
       "  ['e', 'c', 'f'],\n",
       "  ['a', 'd', 'f'],\n",
       "  ['b', 'd', 'f'],\n",
       "  ['c', 'd', 'f'],\n",
       "  ['e', 'd', 'f'],\n",
       "  ['a', 'e', 'f'],\n",
       "  ['b', 'e', 'f'],\n",
       "  ['c', 'e', 'f'],\n",
       "  ['d', 'e', 'f']])"
      ]
     },
     "execution_count": 78,
     "metadata": {},
     "output_type": "execute_result"
    }
   ],
   "source": [
    "perm_pool(list('abcdef'), 3) # 꺼내고 다시 집어넣지 않는 것, 순서 상관 있음"
   ]
  },
  {
   "cell_type": "code",
   "execution_count": 79,
   "id": "0158483a",
   "metadata": {
    "scrolled": true
   },
   "outputs": [
    {
     "data": {
      "text/plain": [
       "(20,\n",
       " [{'a', 'b', 'c'},\n",
       "  {'a', 'b', 'd'},\n",
       "  {'a', 'b', 'e'},\n",
       "  {'a', 'b', 'f'},\n",
       "  {'a', 'c', 'd'},\n",
       "  {'a', 'c', 'e'},\n",
       "  {'a', 'c', 'f'},\n",
       "  {'a', 'd', 'e'},\n",
       "  {'a', 'd', 'f'},\n",
       "  {'a', 'e', 'f'},\n",
       "  {'b', 'c', 'd'},\n",
       "  {'b', 'c', 'e'},\n",
       "  {'b', 'c', 'f'},\n",
       "  {'b', 'd', 'e'},\n",
       "  {'b', 'd', 'f'},\n",
       "  {'b', 'e', 'f'},\n",
       "  {'c', 'd', 'e'},\n",
       "  {'c', 'd', 'f'},\n",
       "  {'c', 'e', 'f'},\n",
       "  {'d', 'e', 'f'}])"
      ]
     },
     "execution_count": 79,
     "metadata": {},
     "output_type": "execute_result"
    }
   ],
   "source": [
    "combi_pool(list('abcdef'), 3) # 순서 상관 없음, 중복을 포함하지 않기 위해 set을 사용"
   ]
  },
  {
   "cell_type": "code",
   "execution_count": 80,
   "id": "b5dcc5d1",
   "metadata": {},
   "outputs": [],
   "source": [
    "# 확률 분포\n",
    "\n",
    "# 동전을 한번 던져 나올수 있는 확룰의 분포\n",
    "# 앞 : 1/2, 뒤 : 1/2\n",
    "\n",
    "# 동전을 두번 던져 나올 수 있는 경우의 확률 분포\n",
    "# (앞,앞), (앞,뒤), (뒤,앞), (뒤,뒤)\n",
    "#  각각의 확률 1/4\n",
    "# 앞의 값 : 0, 뒤의 값 : 1이라고 할때의 분포\n",
    "#    0         1        2    <--- 확률분포 x 축 : 확률변수, 확률변수가 가질 수 잇는 값.\n",
    "#   1/4       1/2      1/4"
   ]
  },
  {
   "cell_type": "code",
   "execution_count": 81,
   "id": "a850ee36",
   "metadata": {},
   "outputs": [
    {
     "name": "stdout",
     "output_type": "stream",
     "text": [
      "[[0 0]\n",
      " [1 0]\n",
      " [0 1]\n",
      " [1 1]]\n"
     ]
    },
    {
     "data": {
      "text/plain": [
       "[<matplotlib.lines.Line2D at 0x7fb492665180>]"
      ]
     },
     "execution_count": 81,
     "metadata": {},
     "output_type": "execute_result"
    },
    {
     "data": {
      "image/png": "[encoded data removed]",
      "text/plain": [
       "<Figure size 432x288 with 1 Axes>"
      ]
     },
     "metadata": {
      "needs_background": "light"
     },
     "output_type": "display_data"
    }
   ],
   "source": [
    "# 동전을 두 번 던졌을 때의 확률 분포\n",
    "x = count_with_replacement_order([0,1], 2)\n",
    "x_array = np.array(x[1])\n",
    "print(x_array)\n",
    "x_array_sum = np.sum(x_array, axis=1) # 가로축으로 더 하고,\n",
    "val, cnt = np.unique(x_array_sum, return_counts = True) # 같은 것 끼리 묶고,\n",
    "\n",
    "_, axe = plt.subplots()\n",
    "axe.plot(val, cnt/x[0])"
   ]
  },
  {
   "cell_type": "code",
   "execution_count": 82,
   "id": "274aaa9b",
   "metadata": {},
   "outputs": [
    {
     "name": "stdout",
     "output_type": "stream",
     "text": [
      "216\n"
     ]
    },
    {
     "data": {
      "text/plain": [
       "[<matplotlib.lines.Line2D at 0x7fb48f3d4fd0>]"
      ]
     },
     "execution_count": 82,
     "metadata": {},
     "output_type": "execute_result"
    },
    {
     "data": {
      "image/png": "[encoded data removed]",
      "text/plain": [
       "<Figure size 432x288 with 1 Axes>"
      ]
     },
     "metadata": {
      "needs_background": "light"
     },
     "output_type": "display_data"
    }
   ],
   "source": [
    "# [주사위를 3번 던져 나온 숫자의 합] 의 확률 분포\n",
    "total_count, counts = count_with_replacement_order([x for x in range(1, 7)], 3)\n",
    "print(total_count)\n",
    "\n",
    "count_np = np.array(counts)\n",
    "pass1 = np.sum(count_np, axis = 1)\n",
    "pass2 = np.unique(pass1, return_counts = True)\n",
    "\n",
    "_,axe = plt.subplots()\n",
    "axe.plot(pass2[0], pass2[1]/total_count)"
   ]
  },
  {
   "cell_type": "code",
   "execution_count": 90,
   "id": "41f3d203",
   "metadata": {},
   "outputs": [
    {
     "name": "stdout",
     "output_type": "stream",
     "text": [
      "5.0 1.5811388300841898\n"
     ]
    },
    {
     "data": {
      "text/plain": [
       "[<matplotlib.lines.Line2D at 0x7fb48f243f40>]"
      ]
     },
     "execution_count": 90,
     "metadata": {},
     "output_type": "execute_result"
    },
    {
     "data": {
      "image/png": "[encoded data removed]",
      "text/plain": [
       "<Figure size 432x288 with 1 Axes>"
      ]
     },
     "metadata": {
      "needs_background": "light"
     },
     "output_type": "display_data"
    }
   ],
   "source": [
    "# 동전을 10번 던져 (앞 0, 뒤 1) 나올 수 있는 합의 확률 분포\n",
    "total_cnt, s = count_with_replacement_order([0,1], 10)\n",
    "s_array = np.array(s)\n",
    "pass3 = np.sum(s_array, axis = 1)\n",
    "#print(pass3, len(pass3))\n",
    "pass4 = np.unique(pass3, return_counts = True)\n",
    "\n",
    "_, axe = plt.subplots()\n",
    "axe.plot(pass4[0], pass4[1]/total_cnt)\n",
    "\n",
    "t_mean = np.mean(pass3)\n",
    "t_std = np.std(pass3)\n",
    "print(t_mean, t_std)\n",
    "\n",
    "xs = np.linspace(0, 10, 100)\n",
    "ys = stats.norm.pdf(xs, scale=t_std, loc = t_mean) #scale : 폭, loc\n",
    "axe.plot(xs, ys)"
   ]
  },
  {
   "cell_type": "code",
   "execution_count": 84,
   "id": "1c4eaf5f",
   "metadata": {},
   "outputs": [
    {
     "name": "stdout",
     "output_type": "stream",
     "text": [
      "0.0546875\n"
     ]
    }
   ],
   "source": [
    "# 동전을 던져, 앞면이 나오면 100원을 주고,\n",
    "# 뒷면이 나오면 100원을 받기로 함.\n",
    "\n",
    "# 10번을 던져, 앞면이 8번 나옴.\n",
    "# 친구 : 동전이 조작되지 않음          <---- 귀무가설 : 5%보다 작으면 귀무가설이 기각, 5%를 넘어서게 되면 귀무가설을 채택\n",
    "#  나 : 동전이 아무래도 조작된 것 같다. <---- 대립가설\n",
    "# 유의수준 : 5%에서 결정하자 : alpha값 <-- p-value값\n",
    "\n",
    "#print(pass4[0])\n",
    "#print(pass4[1]/total_cnt) # 8부터 10까지를 더해서 유의수준을 판별한다.\n",
    "prob = pass4[1]/total_cnt\n",
    "print(np.sum(prob[-3:])) # 0.0546875이므로, 귀무가설을 채택한다.(던지다 보니 그렇게 나올 수 있다 라는 것이다.)\n",
    "                         # 만약 0.05보다 작을 경우에 귀무가설 기각, 대립가설 채택 (이상하다 동전에 조작이 된거 같다, 재조사가 필요하다.)"
   ]
  },
  {
   "cell_type": "code",
   "execution_count": 85,
   "id": "0dffb7ef",
   "metadata": {},
   "outputs": [
    {
     "data": {
      "text/plain": [
       "[<matplotlib.lines.Line2D at 0x7fb48f483850>]"
      ]
     },
     "execution_count": 85,
     "metadata": {},
     "output_type": "execute_result"
    },
    {
     "data": {
      "image/png": "[encoded data removed]",
      "text/plain": [
       "<Figure size 432x288 with 1 Axes>"
      ]
     },
     "metadata": {
      "needs_background": "light"
     },
     "output_type": "display_data"
    }
   ],
   "source": [
    "# 정규분포\n",
    "\n",
    "xs = np.linspace(-3, 3, 100)\n",
    "ys = stats.norm.pdf(xs)\n",
    "_, axe = plt.subplots()\n",
    "axe.plot(xs, ys)"
   ]
  },
  {
   "cell_type": "code",
   "execution_count": 110,
   "id": "d1b995d4",
   "metadata": {},
   "outputs": [
    {
     "name": "stdout",
     "output_type": "stream",
     "text": [
      "0.016203703703703703\n"
     ]
    },
    {
     "data": {
      "image/png": "[encoded data removed]",
      "text/plain": [
       "<Figure size 432x288 with 1 Axes>"
      ]
     },
     "metadata": {
      "needs_background": "light"
     },
     "output_type": "display_data"
    }
   ],
   "source": [
    "# 주사위를 5번 던졌을 때\n",
    "# 합이 25가 될 확률\n",
    "# 합이 25보다 크면, 100원을 받기로 한다. 합이 25보다 클 확률은(25 불포함)\n",
    "total_ct, e = count_with_replacement_order([i for i in range(1,7)], 5)\n",
    "e_array = np.array(e)\n",
    "pass5 = np.sum(e_array, axis = 1)\n",
    "pass6 = np.unique(pass5, return_counts = True)\n",
    "\n",
    "#pass_zip=zip(pass6[0], total_prob)\n",
    "#print(pass6[0])\n",
    "#print(pass6[1])\n",
    "\n",
    "total_prob = pass6[1]/total_ct\n",
    "\n",
    "_, axe = plt.subplots()\n",
    "axe.plot(pass6[0], total_prob)\n",
    "\n",
    "print(np.sum(total_prob[-5:]))"
   ]
  }
 ],
 "metadata": {
  "kernelspec": {
   "display_name": "Python 3 (ipykernel)",
   "language": "python",
   "name": "python3"
  },
  "language_info": {
   "codemirror_mode": {
    "name": "ipython",
    "version": 3
   },
   "file_extension": ".py",
   "mimetype": "text/x-python",
   "name": "python",
   "nbconvert_exporter": "python",
   "pygments_lexer": "ipython3",
   "version": "3.10.6"
  }
 },
 "nbformat": 4,
 "nbformat_minor": 5
}
