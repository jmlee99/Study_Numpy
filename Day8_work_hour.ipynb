{
 "cells": [
  {
   "cell_type": "markdown",
   "id": "00d5ec72",
   "metadata": {},
   "source": [
    "산업 규모별 근로시간 통계 검정\n",
    "======================\n",
    "> * 금융보험, 정보통신 사이의 통계검정 및 분산검정\n",
    "> * 제조, 정보통신 사이의 통계검정 및 분산검정"
   ]
  },
  {
   "cell_type": "code",
   "execution_count": 32,
   "id": "cad5a93a",
   "metadata": {},
   "outputs": [
    {
     "name": "stdout",
     "output_type": "stream",
     "text": [
      "[['전규모(1인이상)' '전체근로시간 (시간)' 2020.01 168.3 136.6 160.2 159.2 157.8]\n",
      " ['전규모(1인이상)' '전체근로시간 (시간)' 2020.02 169.8 132.0 159.9 160.3 158.4]\n",
      " ['전규모(1인이상)' '전체근로시간 (시간)' 2020.03 185.0 144.3 170.8 174.6 173.2]\n",
      " ['전규모(1인이상)' '전체근로시간 (시간)' 2020.04 169.9 136.1 159.2 159.1 157.7]\n",
      " ['전규모(1인이상)' '전체근로시간 (시간)' 2020.05 157.4 130.3 154.6 150.6 149.3]]\n"
     ]
    }
   ],
   "source": [
    "import numpy as np\n",
    "import pandas as pd\n",
    "import matplotlib.pyplot as plt\n",
    "from scipy import stats\n",
    "import statsmodels.api as sm\n",
    "\n",
    "filename = '산업_규모별_임금_및_근로시간_20230315212140.csv'\n",
    "pd_data = pd.read_csv(filename, encoding = 'cp949')\n",
    "np_data = pd_data.to_numpy()\n",
    "print(np_data[:5])\n",
    "\n",
    "# 제조, 건설, 도소매, 정보통신, 금융보험\n",
    "# 각 업종별, 근로시간 평균, 평균값 비교, ttest(정보통신, 금융보험), shapiro, levene 실행"
   ]
  },
  {
   "cell_type": "code",
   "execution_count": 22,
   "id": "bbcd4392",
   "metadata": {},
   "outputs": [
    {
     "name": "stdout",
     "output_type": "stream",
     "text": [
      "[[2020.01  168.3   136.6   160.2   159.2   157.8 ]\n",
      " [2020.02  169.8   132.    159.9   160.3   158.4 ]\n",
      " [2020.03  185.    144.3   170.8   174.6   173.2 ]\n",
      " [2020.04  169.9   136.1   159.2   159.1   157.7 ]\n",
      " [2020.05  157.4   130.3   154.6   150.6   149.3 ]\n",
      " [2020.06  177.7   143.3   171.3   174.2   172.5 ]\n",
      " [2020.07  184.2   145.5   177.3   179.3   178.7 ]\n",
      " [2020.08  160.3   132.6   158.2   156.9   153.9 ]\n",
      " [2020.09  176.4   137.5   166.    165.3   164.  ]\n",
      " [2020.1   163.4   127.8   152.7   150.1   148.6 ]\n",
      " [2020.11  178.    136.5   165.2   166.3   162.5 ]\n",
      " [2020.12  181.8   140.8   170.5   169.1   168.7 ]\n",
      " [2021.01  170.8   135.5   160.5   160.    158.5 ]\n",
      " [2021.02  154.    121.3   146.    145.2   144.2 ]\n",
      " [2021.03  183.6   140.7   171.4   172.8   173.  ]\n",
      " [2021.04  183.9   141.2   172.    174.3   173.2 ]\n",
      " [2021.05  164.8   129.3   155.2   151.7   149.4 ]\n",
      " [2021.06  183.9   142.1   171.9   173.6   171.6 ]\n",
      " [2021.07  182.1   140.5   171.4   173.1   170.7 ]\n",
      " [2021.08  166.5   136.    163.5   165.4   161.1 ]\n",
      " [2021.09  159.8   127.8   152.2   150.9   147.8 ]\n",
      " [2021.1   164.    128.8   154.4   150.8   147.2 ]\n",
      " [2021.11  183.1   141.7   171.2   173.7   170.3 ]\n",
      " [2021.12  186.    145.5   175.8   176.6   176.1 ]\n",
      " [2022.01  169.1   135.3   159.9   160.1   156.5 ]\n",
      " [2022.02  151.8   118.9   145.1   143.8   140.9 ]\n",
      " [2022.03  174.    135.6   164.4   164.6   161.  ]\n",
      " [2022.04  175.8   137.4   166.4   166.8   163.9 ]\n",
      " [2022.05  175.    136.5   165.2   166.    163.3 ]\n",
      " [2022.06  169.9   135.    159.5   159.2   156.6 ]\n",
      " [2022.07  174.5   136.5   164.9   166.2   162.7 ]\n",
      " [2022.08  169.7   138.6   168.3   170.9   167.9 ]\n",
      " [2022.09  166.    131.1   157.8   158.2   156.2 ]\n",
      " [2022.1   164.1   128.7   154.    152.1   148.6 ]\n",
      " [2022.11  182.8   139.    171.7   173.9   171.3 ]\n",
      " [2022.12  180.2   139.1   170.5   169.4   169.  ]]\n"
     ]
    }
   ],
   "source": [
    "np_data = np_data[:, 2:].astype(np.float64)\n",
    "print(np_data)"
   ]
  },
  {
   "cell_type": "code",
   "execution_count": 23,
   "id": "e71510af",
   "metadata": {},
   "outputs": [
    {
     "name": "stdout",
     "output_type": "stream",
     "text": [
      "[172.43333333 135.70555556 163.30833333 163.45277778 161.28611111]\n"
     ]
    }
   ],
   "source": [
    "# axis=0을 따라서 각각의 평균\n",
    "print(np.mean(np_data[:, 1:], axis=0))"
   ]
  },
  {
   "cell_type": "code",
   "execution_count": 24,
   "id": "973f99c4",
   "metadata": {},
   "outputs": [
    {
     "data": {
      "text/plain": [
       "Ttest_indResult(statistic=0.9370074508726426, pvalue=0.3519763682469319)"
      ]
     },
     "execution_count": 24,
     "metadata": {},
     "output_type": "execute_result"
    }
   ],
   "source": [
    "stats.ttest_ind(np_data[:, 4], np_data[:, 5]) # 귀무가설 수용 (두개의 그룹은 평균값이 같다.)"
   ]
  },
  {
   "cell_type": "code",
   "execution_count": 25,
   "id": "86f47a8a",
   "metadata": {},
   "outputs": [
    {
     "name": "stdout",
     "output_type": "stream",
     "text": [
      "ShapiroResult(statistic=0.9487093687057495, pvalue=0.09523387998342514)\n",
      "ShapiroResult(statistic=0.9620586633682251, pvalue=0.2486262172460556)\n"
     ]
    }
   ],
   "source": [
    "print(stats.shapiro(np_data[:, 4])) # 정보통신업 - 귀무가설 수용 (정규분포를 따른다.)\n",
    "print(stats.shapiro(np_data[:, 5])) # 금융보험  -  귀무가설 수용 (정규분포를 따른다.)"
   ]
  },
  {
   "cell_type": "code",
   "execution_count": 26,
   "id": "65e2585b",
   "metadata": {},
   "outputs": [
    {
     "name": "stdout",
     "output_type": "stream",
     "text": [
      "LeveneResult(statistic=0.054289038864324124, pvalue=0.816441308281776)\n",
      "BartlettResult(statistic=0.04283620837640401, pvalue=0.8360339905731001)\n"
     ]
    }
   ],
   "source": [
    "print(stats.levene(np_data[:, 4], np_data[:, 5])) # 귀무가설 수용 (두개의 그룹은 분산이 같다. == 동일분산)\n",
    "\n",
    "print(stats.bartlett(np_data[:, 4], np_data[:, 5])) # 귀무가설 수용(두개의 그룹은 분산이 같다. == 동일분산)"
   ]
  },
  {
   "cell_type": "code",
   "execution_count": 31,
   "id": "3f5fec92",
   "metadata": {},
   "outputs": [
    {
     "name": "stdout",
     "output_type": "stream",
     "text": [
      "[[2022.01  169.1   135.3   159.9   160.1   156.5 ]\n",
      " [2022.02  151.8   118.9   145.1   143.8   140.9 ]\n",
      " [2022.03  174.    135.6   164.4   164.6   161.  ]\n",
      " [2022.04  175.8   137.4   166.4   166.8   163.9 ]\n",
      " [2022.05  175.    136.5   165.2   166.    163.3 ]\n",
      " [2022.06  169.9   135.    159.5   159.2   156.6 ]\n",
      " [2022.07  174.5   136.5   164.9   166.2   162.7 ]\n",
      " [2022.08  169.7   138.6   168.3   170.9   167.9 ]\n",
      " [2022.09  166.    131.1   157.8   158.2   156.2 ]\n",
      " [2022.1   164.1   128.7   154.    152.1   148.6 ]\n",
      " [2022.11  182.8   139.    171.7   173.9   171.3 ]\n",
      " [2022.12  180.2   139.1   170.5   169.4   169.  ]]\n",
      "\n",
      "\n",
      "[False False False False False False False False False False False False\n",
      " False False False False False False False False False False False False\n",
      "  True  True  True  True  True  True  True  True  True  True  True  True]\n",
      "\n",
      "\n",
      "[[2022.01  169.1   135.3   159.9   160.1   156.5 ]\n",
      " [2022.02  151.8   118.9   145.1   143.8   140.9 ]\n",
      " [2022.03  174.    135.6   164.4   164.6   161.  ]\n",
      " [2022.04  175.8   137.4   166.4   166.8   163.9 ]\n",
      " [2022.05  175.    136.5   165.2   166.    163.3 ]\n",
      " [2022.06  169.9   135.    159.5   159.2   156.6 ]\n",
      " [2022.07  174.5   136.5   164.9   166.2   162.7 ]\n",
      " [2022.08  169.7   138.6   168.3   170.9   167.9 ]\n",
      " [2022.09  166.    131.1   157.8   158.2   156.2 ]\n",
      " [2022.1   164.1   128.7   154.    152.1   148.6 ]\n",
      " [2022.11  182.8   139.    171.7   173.9   171.3 ]\n",
      " [2022.12  180.2   139.1   170.5   169.4   169.  ]]\n"
     ]
    }
   ],
   "source": [
    "# 평균근로시간 ttest(2022년 정보통신, 2022년 제조업), shapiro, levene 실행\n",
    "sub_data = np_data[24:].astype(np.float64)\n",
    "print(sub_data)\n",
    "print('\\n')\n",
    "# 값이 float로 저장되어 있기 때문에 년도를 2022보다 크고 2023보다 작다 하면 filtering 가능하다.\n",
    "filter1 = (np_data[:, 0] > 2022) & (np_data[:,0] < 2023)\n",
    "print(filter1)\n",
    "print('\\n')\n",
    "print(np_data[filter1])"
   ]
  },
  {
   "cell_type": "code",
   "execution_count": 28,
   "id": "0afb950c",
   "metadata": {},
   "outputs": [
    {
     "name": "stdout",
     "output_type": "stream",
     "text": [
      "ShapiroResult(statistic=0.9328455924987793, pvalue=0.41125211119651794)\n",
      "ShapiroResult(statistic=0.9346754550933838, pvalue=0.4323103725910187)\n"
     ]
    }
   ],
   "source": [
    "# normal? => 2022 정보통신, 2022 제조업 shapiro\n",
    "print(stats.shapiro(sub_data[:, 1])) # 귀무가설 수용( 제조업은 정규분포를 따른다. => 샘플은 정규분포 집단에서 추출됨. )\n",
    "print(stats.shapiro(sub_data[:, 4])) # 귀무가설 수용( 정보통신업은 정규분포를 따른다. => 샘플은 정규분포 집단에서 추출됨. )"
   ]
  },
  {
   "cell_type": "code",
   "execution_count": 29,
   "id": "45883578",
   "metadata": {},
   "outputs": [
    {
     "name": "stdout",
     "output_type": "stream",
     "text": [
      "LeveneResult(statistic=0.01562407603446479, pvalue=0.9016616337948137)\n",
      "BartlettResult(statistic=0.01528489295956008, pvalue=0.901606585553217)\n"
     ]
    }
   ],
   "source": [
    "# 2022 정보통신, 2022 제조업 levene, bartlett실행\n",
    "print(stats.levene(sub_data[:, 1], sub_data[:, 4])) # 귀무가설 수용( 제조업과 정보통신업은 분산이 같다.)\n",
    "print(stats.bartlett(sub_data[:, 1], sub_data[:, 4])) #귀무가설 수용( 제조업과 정보통신업은 분산이 같다.)"
   ]
  },
  {
   "cell_type": "code",
   "execution_count": 30,
   "id": "32add1e0",
   "metadata": {},
   "outputs": [
    {
     "name": "stdout",
     "output_type": "stream",
     "text": [
      "Ttest_indResult(statistic=2.4960989375114, pvalue=0.020541352765606515)\n",
      "171.07499999999996\n",
      "162.6\n"
     ]
    }
   ],
   "source": [
    "# 평균근로시간 ttest(2022년 정보통신, 2022년 제조업)\n",
    "print(stats.ttest_ind(sub_data[:, 1], sub_data[:, 4])) # 귀무가설 기각(두 개의 그룹은 평균이 같다고 할 수 없다.)\n",
    "print(np.mean(sub_data[:, 1]))\n",
    "print(np.mean(sub_data[:, 4]))\n",
    "# 최종결론 : 2022년 정보통신과 제조업의 평균 근로시간은 다르다."
   ]
  }
 ],
 "metadata": {
  "kernelspec": {
   "display_name": "Python 3 (ipykernel)",
   "language": "python",
   "name": "python3"
  },
  "language_info": {
   "codemirror_mode": {
    "name": "ipython",
    "version": 3
   },
   "file_extension": ".py",
   "mimetype": "text/x-python",
   "name": "python",
   "nbconvert_exporter": "python",
   "pygments_lexer": "ipython3",
   "version": "3.10.6"
  }
 },
 "nbformat": 4,
 "nbformat_minor": 5
}
