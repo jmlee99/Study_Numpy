{
 "cells": [
  {
   "cell_type": "markdown",
   "id": "6433b3ca",
   "metadata": {},
   "source": [
    "#### 범죄/안전 -> 교통사고 사망자수\n",
    "\n",
    "#### 주야별 교통사고 - 사망자수\n",
    "* 2021년, 주야 사망자수 평균 차이가 있는가. (주간, 야간 95% ci : mean+-1.96*std)\n",
    "* 2011 ~ 2021년, 월별 차이가 있는가"
   ]
  },
  {
   "cell_type": "code",
   "execution_count": 48,
   "id": "3ab4b459",
   "metadata": {},
   "outputs": [],
   "source": [
    "import numpy as np\n",
    "import pandas as pd\n",
    "import matplotlib.pyplot as plt\n",
    "from scipy import stats\n",
    "import statsmodels.api as sm"
   ]
  },
  {
   "cell_type": "code",
   "execution_count": 49,
   "id": "356c3311",
   "metadata": {},
   "outputs": [
    {
     "name": "stdout",
     "output_type": "stream",
     "text": [
      "[['1월' 107 90]\n",
      " ['2월' 107 96]\n",
      " ['3월' 128 81]\n",
      " ['4월' 119 93]\n",
      " ['5월' 154 101]\n",
      " ['6월' 124 103]\n",
      " ['7월' 139 115]\n",
      " ['8월' 129 118]\n",
      " ['9월' 131 115]\n",
      " ['10월' 156 156]\n",
      " ['11월' 163 122]\n",
      " ['12월' 149 120]]\n"
     ]
    }
   ],
   "source": [
    "data_file = '주야별_교통사고_20230320214412.csv'\n",
    "pd_data = pd.read_csv(data_file, encoding = 'cp949', header = [0,1,2]) # death_2021[2:, :]\n",
    "death_2021 = pd_data.to_numpy()\n",
    "print(death_2021)"
   ]
  },
  {
   "cell_type": "code",
   "execution_count": 50,
   "id": "9199886c",
   "metadata": {},
   "outputs": [],
   "source": [
    "def do_mean_comparison(g1, g2):\n",
    "    print('***************')\n",
    "    print('g1 shaprio: ', stats.shapiro(g1))\n",
    "    print('g2 shaprio: ', stats.shapiro(g2))\n",
    "    print('levene: ', stats.levene(g1, g2))\n",
    "    print('ttest_ind:', stats.ttest_ind(g1, g2))\n",
    "    print('***************')\n",
    "    \n",
    "def get_95ci(vals):\n",
    "    vals_mean = np.mean(vals)\n",
    "    vals_std = np.std(vals)\n",
    "    \n",
    "    print(vals_mean - 1.96*vals_std, ' ~ ', vals_mean, ' ~ ', vals_mean + 1.96*vals_std)"
   ]
  },
  {
   "cell_type": "code",
   "execution_count": 51,
   "id": "fbb47d9d",
   "metadata": {},
   "outputs": [
    {
     "name": "stdout",
     "output_type": "stream",
     "text": [
      "day: 133.83333333333334\n",
      "night: 109.16666666666667\n",
      "***************\n",
      "g1 shaprio:  ShapiroResult(statistic=0.9471257328987122, pvalue=0.5954179763793945)\n",
      "g2 shaprio:  ShapiroResult(statistic=0.9238178730010986, pvalue=0.31914660334587097)\n",
      "levene:  LeveneResult(statistic=0.005013673655423849, pvalue=0.9441908530585174)\n",
      "ttest_ind: Ttest_indResult(statistic=3.139325802166223, pvalue=0.004765481867654835)\n",
      "***************\n",
      "98.82813816334624  ~  133.83333333333334  ~  168.83852850332045\n",
      "71.97110838942669  ~  109.16666666666667  ~  146.36222494390665\n"
     ]
    }
   ],
   "source": [
    "# 2021년, 주야 사망자수 평균 차이가 있는가. (주간, 야간 95% ci : mean+-1.96*std)\n",
    "\n",
    "death_2021_day = death_2021[:, 1].astype(np.int64) # 주간사망자 수 \n",
    "death_2021_night = death_2021[:, 2].astype(np.int64) # 야간사망자 수 \n",
    "\n",
    "# 주간, 야간 2021년 사망자 수 평균 \n",
    "print('day:', np.mean(death_2021_day))\n",
    "print('night:', np.mean(death_2021_night))\n",
    "\n",
    "do_mean_comparison(death_2021_day, death_2021_night)\n",
    "\n",
    "get_95ci(death_2021_day)\n",
    "get_95ci(death_2021_night)"
   ]
  },
  {
   "cell_type": "code",
   "execution_count": 52,
   "id": "300c0562",
   "metadata": {},
   "outputs": [
    {
     "name": "stdout",
     "output_type": "stream",
     "text": [
      "[['2011' '주' '186' '156' '143' '182' '185' '202' '225' '227' '217' '233'\n",
      "  '228' '250']\n",
      " ['2011' '야' '209' '183' '195' '247' '208' '213' '237' '245' '257' '287'\n",
      "  '286' '228']\n",
      " ['2012' '주' '206' '194' '179' '233' '218' '238' '198' '193' '233' '261'\n",
      "  '238' '196']\n",
      " ['2012' '야' '212' '199' '224' '250' '226' '238' '218' '216' '253' '272'\n",
      "  '270' '227']\n",
      " ['2013' '주' '190' '136' '198' '164' '215' '195' '221' '192' '211' '236'\n",
      "  '223' '209']\n",
      " ['2013' '야' '199' '199' '211' '216' '205' '241' '223' '220' '219' '263'\n",
      "  '256' '250']\n",
      " ['2014' '주' '189' '150' '153' '153' '226' '185' '196' '183' '200' '223'\n",
      "  '249' '209']\n",
      " ['2014' '야' '200' '175' '205' '188' '172' '182' '211' '176' '245' '247'\n",
      "  '227' '218']\n",
      " ['2015' '주' '174' '129' '175' '168' '202' '202' '179' '190' '199' '241'\n",
      "  '189' '204']\n",
      " ['2015' '야' '207' '167' '203' '186' '187' '188' '180' '215' '188' '229'\n",
      "  '221' '198']\n",
      " ['2016' '주' '159' '135' '154' '160' '210' '162' '187' '175' '187' '195'\n",
      "  '215' '196']\n",
      " ['2016' '야' '177' '157' '156' '193' '137' '159' '171' '161' '188' '245'\n",
      "  '201' '212']\n",
      " ['2017' '주' '183' '129' '127' '147' '193' '171' '170' '188' '205' '198'\n",
      "  '203' '162']\n",
      " ['2017' '야' '170' '151' '168' '146' '173' '144' '187' '165' '214' '222'\n",
      "  '176' '193']\n",
      " ['2018' '주' '149' '122' '150' '138' '171' '148' '171' '169' '169' '204'\n",
      "  '163' '164']\n",
      " ['2018' '야' '155' '153' '160' '165' '138' '118' '144' '188' '179' '169'\n",
      "  '135' '159']\n",
      " ['2019' '주' '152' '101' '124' '152' '174' '145' '132' '131' '150' '168'\n",
      "  '169' '152']\n",
      " ['2019' '야' '144' '102' '128' '134' '131' '134' '109' '122' '137' '169'\n",
      "  '128' '161']\n",
      " ['2020' '주' '145' '107' '124' '117' '136' '111' '116' '161' '164' '162'\n",
      "  '145' '130']\n",
      " ['2020' '야' '132' '115' '115' '96' '118' '143' '124' '134' '137' '147'\n",
      "  '116' '86']\n",
      " ['2021' '주' '107' '107' '128' '119' '154' '124' '139' '129' '131' '156'\n",
      "  '163' '149']\n",
      " ['2021' '야' '90' '96' '81' '93' '101' '103' '115' '118' '115' '156'\n",
      "  '122' '120']]\n"
     ]
    }
   ],
   "source": [
    "# 2011 ~ 2021년, 월별 차이가 있는가\n",
    "datafile = '주야별_교통사고_20230320214655.csv'\n",
    "pd_data1 = pd.read_csv(datafile, encoding = 'cp949')\n",
    "death_2011_2021 = pd_data1.to_numpy()\n",
    "death_2011_2021 = death_2011_2021[1:, :]\n",
    "print(death_2011_2021)"
   ]
  },
  {
   "cell_type": "code",
   "execution_count": 53,
   "id": "ccd65bf4",
   "metadata": {},
   "outputs": [],
   "source": [
    "death_2011_2021 = death_2011_2021[:, 2:].astype(np.int64) # 코드가 반복해서 적용 되면 안되므로 따로 둔다."
   ]
  },
  {
   "cell_type": "code",
   "execution_count": 54,
   "id": "b4fcb621",
   "metadata": {},
   "outputs": [
    {
     "name": "stdout",
     "output_type": "stream",
     "text": [
      "[[186 156 143 182 185 202 225 227 217 233 228 250]\n",
      " [209 183 195 247 208 213 237 245 257 287 286 228]\n",
      " [206 194 179 233 218 238 198 193 233 261 238 196]\n",
      " [212 199 224 250 226 238 218 216 253 272 270 227]\n",
      " [190 136 198 164 215 195 221 192 211 236 223 209]\n",
      " [199 199 211 216 205 241 223 220 219 263 256 250]\n",
      " [189 150 153 153 226 185 196 183 200 223 249 209]\n",
      " [200 175 205 188 172 182 211 176 245 247 227 218]\n",
      " [174 129 175 168 202 202 179 190 199 241 189 204]\n",
      " [207 167 203 186 187 188 180 215 188 229 221 198]\n",
      " [159 135 154 160 210 162 187 175 187 195 215 196]\n",
      " [177 157 156 193 137 159 171 161 188 245 201 212]\n",
      " [183 129 127 147 193 171 170 188 205 198 203 162]\n",
      " [170 151 168 146 173 144 187 165 214 222 176 193]\n",
      " [149 122 150 138 171 148 171 169 169 204 163 164]\n",
      " [155 153 160 165 138 118 144 188 179 169 135 159]\n",
      " [152 101 124 152 174 145 132 131 150 168 169 152]\n",
      " [144 102 128 134 131 134 109 122 137 169 128 161]\n",
      " [145 107 124 117 136 111 116 161 164 162 145 130]\n",
      " [132 115 115  96 118 143 124 134 137 147 116  86]\n",
      " [107 107 128 119 154 124 139 129 131 156 163 149]\n",
      " [ 90  96  81  93 101 103 115 118 115 156 122 120]]\n",
      "[169.77272727 143.77272727 159.13636364 165.77272727 176.36363636\n",
      " 170.27272727 175.13636364 177.18181818 190.81818182 212.86363636\n",
      " 196.5        185.13636364]\n",
      "***************\n",
      "g1 shaprio:  ShapiroResult(statistic=0.9344812631607056, pvalue=0.1521020382642746)\n",
      "g2 shaprio:  ShapiroResult(statistic=0.9441033601760864, pvalue=0.24028174579143524)\n",
      "levene:  LeveneResult(statistic=0.037831565712641416, pvalue=0.8467195310345558)\n",
      "ttest_ind: Ttest_indResult(statistic=2.611907155697852, pvalue=0.012435676148431905)\n",
      "***************\n"
     ]
    },
    {
     "data": {
      "text/plain": [
       "F_onewayResult(statistic=4.500366143142333, pvalue=3.2479850700053925e-06)"
      ]
     },
     "execution_count": 54,
     "metadata": {},
     "output_type": "execute_result"
    }
   ],
   "source": [
    "print(death_2011_2021)\n",
    "mo_mean = np.mean(death_2011_2021, axis = 0)\n",
    "print(mo_mean)\n",
    "\n",
    "# 1, 2월 ttest 비교\n",
    "do_mean_comparison(death_2011_2021[:, 0], death_2011_2021[:, 1])\n",
    "\n",
    "# ANOVA 각 샘플마다 전체 비교\n",
    "lista = [death_2011_2021[:, x] for x in range(12)]\n",
    "stats.f_oneway(*lista) # 리스트 앞에 *를 붙이며 사각괄호가 벗겨진상태로 들어간다.\n",
    "# 12개월을 넣으니 e^-6이므로 전체적으로 봤을 때 1 ~ 12 개월이 아주 잘 구분된다. "
   ]
  },
  {
   "cell_type": "code",
   "execution_count": 67,
   "id": "af378e12",
   "metadata": {},
   "outputs": [
    {
     "name": "stdout",
     "output_type": "stream",
     "text": [
      "[[209 183 195 247 208 213 237 245 257 287 286 228]\n",
      " [212 199 224 250 226 238 218 216 253 272 270 227]\n",
      " [199 199 211 216 205 241 223 220 219 263 256 250]\n",
      " [200 175 205 188 172 182 211 176 245 247 227 218]\n",
      " [207 167 203 186 187 188 180 215 188 229 221 198]\n",
      " [177 157 156 193 137 159 171 161 188 245 201 212]\n",
      " [170 151 168 146 173 144 187 165 214 222 176 193]\n",
      " [155 153 160 165 138 118 144 188 179 169 135 159]\n",
      " [144 102 128 134 131 134 109 122 137 169 128 161]\n",
      " [132 115 115  96 118 143 124 134 137 147 116  86]\n",
      " [ 90  96  81  93 101 103 115 118 115 156 122 120]]\n"
     ]
    }
   ],
   "source": [
    "death_day = death_2011_2021[::2, :] # 월 별 주간\n",
    "death_night = death_2011_2021[1::2, :] # 월 별 야간\n",
    "print(death_night) # ANOVA : 분산분석 (analysis of variance)"
   ]
  },
  {
   "cell_type": "code",
   "execution_count": 68,
   "id": "57e13d94",
   "metadata": {},
   "outputs": [
    {
     "name": "stdout",
     "output_type": "stream",
     "text": [
      "[[209 183 195 247 208 213 237 245 257 287 286 228]\n",
      " [212 199 224 250 226 238 218 216 253 272 270 227]\n",
      " [199 199 211 216 205 241 223 220 219 263 256 250]\n",
      " [200 175 205 188 172 182 211 176 245 247 227 218]\n",
      " [207 167 203 186 187 188 180 215 188 229 221 198]\n",
      " [177 157 156 193 137 159 171 161 188 245 201 212]\n",
      " [170 151 168 146 173 144 187 165 214 222 176 193]\n",
      " [155 153 160 165 138 118 144 188 179 169 135 159]\n",
      " [144 102 128 134 131 134 109 122 137 169 128 161]\n",
      " [132 115 115  96 118 143 124 134 137 147 116  86]\n",
      " [ 90  96  81  93 101 103 115 118 115 156 122 120]]\n"
     ]
    },
    {
     "data": {
      "text/plain": [
       "F_onewayResult(statistic=1.453139015449641, pvalue=0.15835383757059432)"
      ]
     },
     "execution_count": 68,
     "metadata": {},
     "output_type": "execute_result"
    }
   ],
   "source": [
    "print(death_night) # ANOVA : 분산분석 (analysis of variance)\n",
    "lista = [death_night[:, x] for x in range(12)]\n",
    "stats.f_oneway(*lista)\n",
    "# 귀무가설 : mean 값에 차이가 없다. 같은 것으로 보는것이 맞다.\n",
    "# pvalue (0.15835383757059432) > 0.05 \n",
    "# 귀무가설 수용, 2011부터, 2021년 야간 사망자수는 월별 차이가 없다."
   ]
  },
  {
   "cell_type": "code",
   "execution_count": 71,
   "id": "0dd39142",
   "metadata": {},
   "outputs": [
    {
     "name": "stdout",
     "output_type": "stream",
     "text": [
      "3259.0055096418714 2242.7348484848485 1.4531390154496404\n"
     ]
    }
   ],
   "source": [
    "# ANOVA는 그룹 간 분산, 그룹 내 분산\n",
    "\n",
    "# 그룹 간 분산\n",
    "group_mean = np.mean(death_night, axis = 0)\n",
    "total_mean = np.mean(death_night)\n",
    "#print(group_mean)\n",
    "#print(total_mean)\n",
    "inter_g = np.sum(11*((group_mean - total_mean)**2))/(12-1) # (12-1)는 자유도를 생각\n",
    "\n",
    "\n",
    "# 그룹 내 분산\n",
    "intra_g = np.sum(np.sum((death_night - group_mean)**2, axis = 0))/(11*12 - 12) \n",
    "# (11*12 - 12) 전체(11*12)에서 발이 묶여있는게 각 하나씩 12개 있어서 빼줌\n",
    "print(inter_g, intra_g, inter_g / intra_g) # ANOVA의 stactistic는 같다. == 그룹간 분산 / 그룹 내 분산"
   ]
  },
  {
   "cell_type": "code",
   "execution_count": 74,
   "id": "14763542",
   "metadata": {},
   "outputs": [
    {
     "data": {
      "text/plain": [
       "array([0.15835384])"
      ]
     },
     "execution_count": 74,
     "metadata": {},
     "output_type": "execute_result"
    },
    {
     "data": {
      "image/png": "[encoded data removed]",
      "text/plain": [
       "<Figure size 432x288 with 1 Axes>"
      ]
     },
     "metadata": {
      "needs_background": "light"
     },
     "output_type": "display_data"
    }
   ],
   "source": [
    "xs = np.linspace(-5, 5, 100)\n",
    "ys = stats.ncf.cdf(xs, 12-1, (11*12)-12, 0) # f 누적분포, 0은 f분포를 그려달라는 뜻\n",
    "\n",
    "_, axe = plt.subplots()\n",
    "axe.plot(xs, ys)\n",
    "\n",
    "1 - stats.ncf.cdf([1.4531390154496404], 12-1, (11*12)-12, 0)"
   ]
  },
  {
   "cell_type": "code",
   "execution_count": 76,
   "id": "7e0126a2",
   "metadata": {},
   "outputs": [
    {
     "name": "stdout",
     "output_type": "stream",
     "text": [
      "F_onewayResult(statistic=4.736555362643578, pvalue=5.194830576994146e-06)\n"
     ]
    }
   ],
   "source": [
    "#print(death_day) # ANOVA : 분산분석 (analysis of variance)\n",
    "listb = [death_day[:, x] for x in range(12)]\n",
    "print(stats.f_oneway(*listb))\n",
    "\n",
    "# 2011 ~ 2021 야간 사망사고 평균은 월별 차이가 있다."
   ]
  }
 ],
 "metadata": {
  "kernelspec": {
   "display_name": "Python 3 (ipykernel)",
   "language": "python",
   "name": "python3"
  },
  "language_info": {
   "codemirror_mode": {
    "name": "ipython",
    "version": 3
   },
   "file_extension": ".py",
   "mimetype": "text/x-python",
   "name": "python",
   "nbconvert_exporter": "python",
   "pygments_lexer": "ipython3",
   "version": "3.10.6"
  }
 },
 "nbformat": 4,
 "nbformat_minor": 5
}
