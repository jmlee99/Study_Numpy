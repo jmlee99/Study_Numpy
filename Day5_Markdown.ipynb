{
 "cells": [
  {
   "cell_type": "markdown",
   "id": "6ceb9fdb",
   "metadata": {},
   "source": [
    "First Level header\n",
    "==================\n",
    "\n",
    "[마크다운](https://daringfireball.net/projects/markdown/basics)링크\n",
    "\n",
    "Second Level hedaer\n",
    "------------------------------\n",
    "\n",
    "# Header1\n",
    "\n",
    "## header2\n",
    "\n",
    "### header 3\n",
    "\n",
    "_첫번_ 째 문장 *내용*쓰기\n",
    "\n",
    "__두번__ 째 문장 **내용**쓰기\n",
    "\n",
    "> block quorte\n",
    ">\n",
    "> line1\n",
    "> line2\n",
    "\n",
    "* list item 1\n",
    "* list item 2\n",
    "* list item 3\n",
    "\n",
    "1. list item 1\n",
    "4. list item 4\n",
    "2. list item 2\n",
    "3. list item 3\n",
    "5. list item 5\n",
    "\n",
    "이것은 [링크](https://naver.com) 입니다.\n",
    "![고양이이미지](cat.jpg \"cat\")"
   ]
  },
  {
   "cell_type": "markdown",
   "id": "da17f05a",
   "metadata": {},
   "source": [
    "[참고 사이트](https://matplotlib.org/stable/tutorials/text/mathtext.html)\n",
    "\n",
    "$\n",
    "y = ax + b\n",
    "$\n",
    "\n",
    "* $ x $ : 소문자 기호의 변수 : 스칼라 값 ex. 3\n",
    "* $ X $ : 대문자 기호의 변수 : 스칼라 값의 집합. 리스트 ex [3,4,5]\n",
    "* $ \\bar X $ : 대문자 기호의 변수명 위에 수평선 : 평균치\n",
    "* $ \\hat X $ : 대문자 기호의 변수명 위에 모자 : 예측값\n",
    "\n",
    "$ SSE = \\sum_{i=0}^{n} (Y_i - \\hat Y_i)^2 $\n",
    "\n",
    "$ SST = \\sum_{i=0}^{n} (Y_i - \\bar Y)^2 $\n",
    "\n",
    "$ SSR = \\sum_{i=0}^{n} (\\hat Y_i - \\bar Y)^2 $\n",
    "\n",
    "$ SST = SSR + SSE $\n",
    "\n",
    "$ a \\cdot b = \\sum_{i=0}^{n} a_ib_i $"
   ]
  },
  {
   "cell_type": "markdown",
   "id": "27e590b4",
   "metadata": {},
   "source": [
    "$ SSE = \\sum_{i=0}^{n} (Y_i - \\hat Y_i)^2 $\n",
    "\n",
    "$ \\alpha_i > \\beta_i $\n",
    "\n",
    "$ \\sum_{i=0}^\\infty x_i $"
   ]
  }
 ],
 "metadata": {
  "kernelspec": {
   "display_name": "Python 3 (ipykernel)",
   "language": "python",
   "name": "python3"
  },
  "language_info": {
   "codemirror_mode": {
    "name": "ipython",
    "version": 3
   },
   "file_extension": ".py",
   "mimetype": "text/x-python",
   "name": "python",
   "nbconvert_exporter": "python",
   "pygments_lexer": "ipython3",
   "version": "3.10.6"
  }
 },
 "nbformat": 4,
 "nbformat_minor": 5
}
