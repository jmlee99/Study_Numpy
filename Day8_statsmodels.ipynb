{
 "cells": [
  {
   "cell_type": "markdown",
   "id": "49b18c65",
   "metadata": {},
   "source": [
    "statsmodels 이용하여 회귀선 그리기\n",
    "==========================\n",
    "- abalone데이터\n",
    "> * statsmodels 이용하지 않고 회귀선 그리기\n",
    "> * statsmodels 이용하여 예측하기"
   ]
  },
  {
   "cell_type": "code",
   "execution_count": 3,
   "id": "30cefd45",
   "metadata": {},
   "outputs": [],
   "source": [
    "import numpy as np\n",
    "import pandas as pd\n",
    "import matplotlib.pyplot as plt\n",
    "from scipy import stats\n",
    "import statsmodels.api as sm"
   ]
  },
  {
   "cell_type": "code",
   "execution_count": 4,
   "id": "44cf7e96",
   "metadata": {},
   "outputs": [],
   "source": [
    "url = 'https://archive.ics.uci.edu/ml/machine-learning-databases/abalone/abalone.data'\n",
    "pd_data = pd.read_csv(url, header = None)\n",
    "#print(pd_data.head())\n",
    "np_data = pd_data.to_numpy()"
   ]
  },
  {
   "cell_type": "markdown",
   "id": "417b7bf1",
   "metadata": {},
   "source": [
    "Sex / nominal / -- / M, F, and I (infant)\n",
    "Length / continuous / mm / Longest shell measurement\n",
    "Diameter / continuous / mm / perpendicular to length\n",
    "Height / continuous / mm / with meat in shell\n",
    "Whole weight / continuous / grams / whole abalone\n",
    "Shucked weight / continuous / grams / weight of meat\n",
    "Viscera weight / continuous / grams / gut weight (after bleeding)\n",
    "Shell weight / continuous / grams / after being dried\n",
    "Rings / integer / -- / +1.5 gives the age in years"
   ]
  },
  {
   "cell_type": "code",
   "execution_count": 26,
   "id": "482297de",
   "metadata": {},
   "outputs": [
    {
     "name": "stdout",
     "output_type": "stream",
     "text": [
      "0.815460691756096 -0.019413705519976954\n"
     ]
    },
    {
     "data": {
      "text/plain": [
       "[<matplotlib.lines.Line2D at 0x7fc5bdcb3cd0>]"
      ]
     },
     "execution_count": 26,
     "metadata": {},
     "output_type": "execute_result"
    },
    {
     "data": {
      "image/png": "[encoded data removed]",
      "text/plain": [
       "<Figure size 432x288 with 1 Axes>"
      ]
     },
     "metadata": {
      "needs_background": "light"
     },
     "output_type": "display_data"
    }
   ],
   "source": [
    "# statsmodels없이 numpy로만 회귀선 그리기\n",
    "# plot, regression line\n",
    "\n",
    "x = np_data[:, 1].astype(np.float64) # Length \n",
    "y = np_data[:, 2].astype(np.float64) # Diameter\n",
    "\n",
    "# length로 Diameter 예측\n",
    "# indep_var : length\n",
    "# dep_var(종속변수) : diameter\n",
    "\n",
    "x_mean = np.mean(x)\n",
    "y_mean = np.mean(y)\n",
    "x_std = np.std(x)\n",
    "y_std = np.std(y)\n",
    "\n",
    "xy_corr = np.corrcoef(x, y)[0, 1]\n",
    "\n",
    "slope = xy_corr * (y_std/x_std)\n",
    "intercept = y_mean - (slope * x_mean)\n",
    "print(slope, intercept)\n",
    "\n",
    "_, axe = plt.subplots()\n",
    "axe.scatter(x, y)\n",
    "axe.plot(x, x*slope+intercept, c = 'r')"
   ]
  },
  {
   "cell_type": "code",
   "execution_count": 27,
   "id": "8a13256d",
   "metadata": {},
   "outputs": [
    {
     "name": "stdout",
     "output_type": "stream",
     "text": [
      "[[1.    0.455]\n",
      " [1.    0.35 ]\n",
      " [1.    0.53 ]\n",
      " ...\n",
      " [1.    0.6  ]\n",
      " [1.    0.625]\n",
      " [1.    0.71 ]]\n",
      "<statsmodels.regression.linear_model.OLS object at 0x7fc5be0d7430>\n",
      "<statsmodels.regression.linear_model.RegressionResultsWrapper object at 0x7fc5bdcb0fa0>\n",
      "                            OLS Regression Results                            \n",
      "==============================================================================\n",
      "Dep. Variable:                      y   R-squared:                       0.974\n",
      "Model:                            OLS   Adj. R-squared:                  0.974\n",
      "Method:                 Least Squares   F-statistic:                 1.552e+05\n",
      "Date:                Mon, 20 Mar 2023   Prob (F-statistic):               0.00\n",
      "Time:                        21:12:15   Log-Likelihood:                 11329.\n",
      "No. Observations:                4177   AIC:                        -2.265e+04\n",
      "Df Residuals:                    4175   BIC:                        -2.264e+04\n",
      "Df Model:                           1                                         \n",
      "Covariance Type:            nonrobust                                         \n",
      "==============================================================================\n",
      "                 coef    std err          t      P>|t|      [0.025      0.975]\n",
      "------------------------------------------------------------------------------\n",
      "const         -0.0194      0.001    -17.444      0.000      -0.022      -0.017\n",
      "x1             0.8155      0.002    393.902      0.000       0.811       0.820\n",
      "==============================================================================\n",
      "Omnibus:                     1362.158   Durbin-Watson:                   1.761\n",
      "Prob(Omnibus):                  0.000   Jarque-Bera (JB):            40764.266\n",
      "Skew:                           0.935   Prob(JB):                         0.00\n",
      "Kurtosis:                      18.190   Cond. No.                         10.6\n",
      "==============================================================================\n",
      "\n",
      "Notes:\n",
      "[1] Standard Errors assume that the covariance matrix of the errors is correctly specified.\n",
      "[-0.01941371  0.81546069]\n"
     ]
    }
   ],
   "source": [
    "# statsmodels 사용해서 회귀선 그리기\n",
    "x = np_data[:, 1].astype(np.float64) # Length \n",
    "y = np_data[:, 2].astype(np.float64) # Diameter\n",
    "\n",
    "x = sm.add_constant(x) # statsmodels는 slope와 intercept를 계산할 공간을 줘야한다.\n",
    "print(x)\n",
    "\n",
    "reg_model = sm.OLS(y, x)\n",
    "reg_result = reg_model.fit() # fit이 되면 결과값을 반환 \n",
    "print(reg_model)\n",
    "print(reg_result)\n",
    "print(reg_result.summary())\n",
    "print(reg_result.params)"
   ]
  },
  {
   "cell_type": "code",
   "execution_count": 35,
   "id": "6a1d9483",
   "metadata": {},
   "outputs": [
    {
     "name": "stdout",
     "output_type": "stream",
     "text": [
      "                            OLS Regression Results                            \n",
      "==============================================================================\n",
      "Dep. Variable:                      y   R-squared:                       0.356\n",
      "Model:                            OLS   Adj. R-squared:                  0.355\n",
      "Method:                 Least Squares   F-statistic:                     767.4\n",
      "Date:                Mon, 20 Mar 2023   Prob (F-statistic):               0.00\n",
      "Time:                        21:16:11   Log-Likelihood:                -9898.7\n",
      "No. Observations:                4177   AIC:                         1.981e+04\n",
      "Df Residuals:                    4173   BIC:                         1.983e+04\n",
      "Df Model:                           3                                         \n",
      "Covariance Type:            nonrobust                                         \n",
      "==============================================================================\n",
      "                 coef    std err          t      P>|t|      [0.025      0.975]\n",
      "------------------------------------------------------------------------------\n",
      "const          2.8365      0.186     15.243      0.000       2.472       3.201\n",
      "x1           -11.9327      2.064     -5.781      0.000     -15.980      -7.886\n",
      "x2            25.7661      2.539     10.147      0.000      20.788      30.744\n",
      "x3            20.3582      1.737     11.719      0.000      16.952      23.764\n",
      "==============================================================================\n",
      "Omnibus:                     1324.627   Durbin-Watson:                   1.041\n",
      "Prob(Omnibus):                  0.000   Jarque-Bera (JB):             5701.440\n",
      "Skew:                           1.492   Prob(JB):                         0.00\n",
      "Kurtosis:                       7.884   Cond. No.                         98.2\n",
      "==============================================================================\n",
      "\n",
      "Notes:\n",
      "[1] Standard Errors assume that the covariance matrix of the errors is correctly specified.\n",
      "[  2.83647907 -11.93268123  25.76614753  20.35823401]\n"
     ]
    }
   ],
   "source": [
    "x = np_data[:, 1:4].astype(np.float64) # Length, Diameter, Height \n",
    "y = np_data[:, -1].astype(np.float64) # Rings: 나이\n",
    "\n",
    "x = sm.add_constant(x)\n",
    "reg_result = sm.OLS(y, x).fit()\n",
    "print(reg_result.summary())\n",
    "print(reg_result.params)"
   ]
  },
  {
   "cell_type": "code",
   "execution_count": 45,
   "id": "1411333f",
   "metadata": {},
   "outputs": [
    {
     "name": "stdout",
     "output_type": "stream",
     "text": [
      "[[1.    0.455 0.365 0.095]\n",
      " [1.    0.35  0.265 0.09 ]\n",
      " [1.    0.53  0.42  0.135]\n",
      " ...\n",
      " [1.    0.6   0.475 0.205]\n",
      " [1.    0.625 0.485 0.15 ]\n",
      " [1.    0.71  0.555 0.195]]\n",
      "(4177, 4) (4,)\n",
      "[  2.83647907 -11.93268123  25.76614753  20.35823401]\n",
      "[ 8.74578519  7.3203108  10.08230157 ... 12.08922838 10.92886996\n",
      " 12.63434291]\n",
      "[15.  7.  9. ...  9. 10. 12.]\n",
      "27976.386312603714\n"
     ]
    }
   ],
   "source": [
    "# 나이 예측값 = -11.93 * 길이 + 25.76 * 지름 + 20.35 * 높이 + 2.83\n",
    "# x_org = np_data[:, 1:4].astype(np.float64)\n",
    "print(x)\n",
    "print(x.shape, reg_result.params.shape)\n",
    "print(reg_result.params)\n",
    "\n",
    "pred = np.sum(reg_result.params * x, axis = 1)\n",
    "print(pred)\n",
    "print(y)\n",
    "\n",
    "# SSE 얼마나 실제값과 예측값이 떨어져있는지 구함\n",
    "sse = np.sum((pred - y)**2)\n",
    "print(sse)"
   ]
  },
  {
   "cell_type": "code",
   "execution_count": 54,
   "id": "f474aec1",
   "metadata": {},
   "outputs": [
    {
     "name": "stdout",
     "output_type": "stream",
     "text": [
      "                            OLS Regression Results                            \n",
      "==============================================================================\n",
      "Dep. Variable:                      y   R-squared:                       0.311\n",
      "Model:                            OLS   Adj. R-squared:                  0.311\n",
      "Method:                 Least Squares   F-statistic:                     1882.\n",
      "Date:                Mon, 20 Mar 2023   Prob (F-statistic):               0.00\n",
      "Time:                        21:34:00   Log-Likelihood:                -10039.\n",
      "No. Observations:                4177   AIC:                         2.008e+04\n",
      "Df Residuals:                    4175   BIC:                         2.009e+04\n",
      "Df Model:                           1                                         \n",
      "Covariance Type:            nonrobust                                         \n",
      "==============================================================================\n",
      "                 coef    std err          t      P>|t|      [0.025      0.975]\n",
      "------------------------------------------------------------------------------\n",
      "const          3.9385      0.144     27.302      0.000       3.656       4.221\n",
      "x1            42.9714      0.990     43.388      0.000      41.030      44.913\n",
      "==============================================================================\n",
      "Omnibus:                     1152.248   Durbin-Watson:                   1.136\n",
      "Prob(Omnibus):                  0.000   Jarque-Bera (JB):            80909.975\n",
      "Skew:                           0.369   Prob(JB):                         0.00\n",
      "Kurtosis:                      24.549   Cond. No.                         24.4\n",
      "==============================================================================\n",
      "\n",
      "Notes:\n",
      "[1] Standard Errors assume that the covariance matrix of the errors is correctly specified.\n",
      "[ 3.93846378 42.97144073]\n",
      "[ 8.02075065  7.80589344  9.73960828 ... 12.74760913 10.38417989\n",
      " 12.31789472]\n",
      "[15.  7.  9. ...  9. 10. 12.]\n",
      "29919.916833514704\n"
     ]
    }
   ],
   "source": [
    "# 예측값 : 높이 * 42.97144073 + 3.93846378\n",
    "x = np_data[:, 3].astype(np.float64) # Height \n",
    "y = np_data[:, -1].astype(np.float64) # Rings: 나이\n",
    "\n",
    "x = sm.add_constant(x)\n",
    "reg_results = sm.OLS(y,x).fit()\n",
    "print(reg_results.summary())\n",
    "print(reg_results.params)\n",
    "\n",
    "Ring_pred = np.sum(reg_results.params * x, axis = 1)\n",
    "print(Ring_pred)\n",
    "print(y)\n",
    "\n",
    "# SSE\n",
    "sse = np.sum((Ring_pred - y)**2)\n",
    "print(sse)"
   ]
  },
  {
   "cell_type": "code",
   "execution_count": 57,
   "id": "9c9c09f4",
   "metadata": {},
   "outputs": [
    {
     "data": {
      "image/png": "[encoded data removed]",
      "text/plain": [
       "<Figure size 432x288 with 1 Axes>"
      ]
     },
     "execution_count": 57,
     "metadata": {},
     "output_type": "execute_result"
    },
    {
     "data": {
      "image/png": "[encoded data removed]",
      "text/plain": [
       "<Figure size 432x288 with 1 Axes>"
      ]
     },
     "metadata": {
      "needs_background": "light"
     },
     "output_type": "display_data"
    }
   ],
   "source": [
    "x = np_data[:, 1].astype(np.float64)\n",
    "x = np.random.normal(0, 1, 1000)\n",
    "sm.qqplot(x, line = '45') # 직선이랑 비슷하다 얼추 normal을 따른다."
   ]
  }
 ],
 "metadata": {
  "kernelspec": {
   "display_name": "Python 3 (ipykernel)",
   "language": "python",
   "name": "python3"
  },
  "language_info": {
   "codemirror_mode": {
    "name": "ipython",
    "version": 3
   },
   "file_extension": ".py",
   "mimetype": "text/x-python",
   "name": "python",
   "nbconvert_exporter": "python",
   "pygments_lexer": "ipython3",
   "version": "3.10.6"
  }
 },
 "nbformat": 4,
 "nbformat_minor": 5
}
