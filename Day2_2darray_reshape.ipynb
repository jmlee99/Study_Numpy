{
 "cells": [
  {
   "cell_type": "code",
   "execution_count": 1,
   "id": "95c210d5",
   "metadata": {},
   "outputs": [],
   "source": [
    "import numpy as np"
   ]
  },
  {
   "cell_type": "code",
   "execution_count": 2,
   "id": "a7196a57",
   "metadata": {},
   "outputs": [
    {
     "name": "stdout",
     "output_type": "stream",
     "text": [
      "[[1, 2, 10], [3, 4, 20]]\n",
      "[[ 1  2 10]\n",
      " [ 3  4 20]]\n",
      "2\n",
      "(2, 3)\n"
     ]
    }
   ],
   "source": [
    "lista = [[1,2,10],[3,4,20]]\n",
    "print(lista)\n",
    "\n",
    "a1 = np.array(lista)\n",
    "print(a1)\n",
    "print(a1.ndim)\n",
    "print(a1.shape)"
   ]
  },
  {
   "cell_type": "code",
   "execution_count": 3,
   "id": "df929e07",
   "metadata": {},
   "outputs": [
    {
     "name": "stdout",
     "output_type": "stream",
     "text": [
      "[[10 11 12 13 14]\n",
      " [15 16 17 18 19]]\n",
      "(2, 5)\n",
      "10\n"
     ]
    }
   ],
   "source": [
    "a2 = np.arange(10,20)\n",
    "a2 = a2.reshape(2,5)\n",
    "print(a2)\n",
    "print(a2.shape)\n",
    "print(a2.size)"
   ]
  },
  {
   "cell_type": "code",
   "execution_count": 4,
   "id": "b9ddfdb6",
   "metadata": {},
   "outputs": [
    {
     "name": "stdout",
     "output_type": "stream",
     "text": [
      "[[1, 2, 3], [4, 5]]\n",
      "[list([1, 2, 3]) list([4, 5])]\n",
      "(2,)\n"
     ]
    },
    {
     "name": "stderr",
     "output_type": "stream",
     "text": [
      "/tmp/ipykernel_8088/442986346.py:4: VisibleDeprecationWarning: Creating an ndarray from ragged nested sequences (which is a list-or-tuple of lists-or-tuples-or ndarrays with different lengths or shapes) is deprecated. If you meant to do this, you must specify 'dtype=object' when creating the ndarray.\n",
      "  a2 = np.array(listb)\n"
     ]
    }
   ],
   "source": [
    "listb = [[1,2,3], [4,5]]\n",
    "print(listb)\n",
    "\n",
    "a2 = np.array(listb)\n",
    "print(a2)\n",
    "print(a2.shape)"
   ]
  },
  {
   "cell_type": "code",
   "execution_count": 5,
   "id": "1821b23d",
   "metadata": {},
   "outputs": [
    {
     "name": "stdout",
     "output_type": "stream",
     "text": [
      "[[10 11 12 13 14 15 16]\n",
      " [17 18 19 20 21 22 23]\n",
      " [24 25 26 27 28 29 30]\n",
      " [31 32 33 34 35 36 37]\n",
      " [38 39 40 41 42 43 44]]\n",
      "[[18 20 22]\n",
      " [25 27 29]\n",
      " [32 34 36]]\n"
     ]
    }
   ],
   "source": [
    "a3 = np.arange(10,45).reshape(5,7)\n",
    "print(a3)\n",
    "#print(a3[3])\n",
    "#print(a3[1:3])\n",
    "#print(a3[3,5])\n",
    "#print(a3[:,3:6])\n",
    "#print(a3[1::2, :])\n",
    "#print(a3[[1,3],:])\n",
    "filter1 = a3[:, 0]%2==1\n",
    "#print(a3[filter1])\n",
    "print(a3[1:4, 1::2])"
   ]
  },
  {
   "cell_type": "code",
   "execution_count": 6,
   "id": "d40dd671",
   "metadata": {},
   "outputs": [
    {
     "name": "stdout",
     "output_type": "stream",
     "text": [
      "[[10 11 12 13 14 15 16]\n",
      " [17 18 19 20 21 22 23]\n",
      " [24 25 26 27 28 29 30]\n",
      " [31 32 33 34 35 36 37]\n",
      " [38 39 40 41 42 43 44]]\n",
      "945\n",
      "[ 91 140 189 238 287]\n",
      "[120 125 130 135 140 145 150]\n"
     ]
    }
   ],
   "source": [
    "print(a3)\n",
    "print(np.sum(a3))\n",
    "print(np.sum(a3, axis = 1))\n",
    "print(np.sum(a3, axis = 0))"
   ]
  },
  {
   "cell_type": "code",
   "execution_count": 7,
   "id": "5dfc6657",
   "metadata": {},
   "outputs": [
    {
     "name": "stdout",
     "output_type": "stream",
     "text": [
      "[[10 11 12 13 14 15 16]\n",
      " [17 18 19 20 21 22 23]\n",
      " [24 25 26 27 28 29 30]\n",
      " [31 32 33 34 35 36 37]\n",
      " [38 39 40 41 42 43 44]]\n",
      "(5, 7)\n",
      "[[10 17 24 31 38]\n",
      " [11 18 25 32 39]\n",
      " [12 19 26 33 40]\n",
      " [13 20 27 34 41]\n",
      " [14 21 28 35 42]\n",
      " [15 22 29 36 43]\n",
      " [16 23 30 37 44]] (7, 5)\n"
     ]
    }
   ],
   "source": [
    "print(a3)\n",
    "print(a3.shape)\n",
    "print(a3.T, a3.T.shape)"
   ]
  }
 ],
 "metadata": {
  "kernelspec": {
   "display_name": "Python 3 (ipykernel)",
   "language": "python",
   "name": "python3"
  },
  "language_info": {
   "codemirror_mode": {
    "name": "ipython",
    "version": 3
   },
   "file_extension": ".py",
   "mimetype": "text/x-python",
   "name": "python",
   "nbconvert_exporter": "python",
   "pygments_lexer": "ipython3",
   "version": "3.10.6"
  }
 },
 "nbformat": 4,
 "nbformat_minor": 5
}
