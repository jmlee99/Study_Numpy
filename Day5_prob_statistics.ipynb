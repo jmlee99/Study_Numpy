{
 "cells": [
  {
   "cell_type": "code",
   "execution_count": 3,
   "id": "104127f8",
   "metadata": {},
   "outputs": [
    {
     "name": "stdout",
     "output_type": "stream",
     "text": [
      "[80 18 34 94 43 30 46 85 77 55 50 70 64 35 30 85 48 27 51 37]\n",
      "[ 32  92  84  30  57 100  85  61  94  22  82  49  97  57  47  90  70  21\n",
      "  48  16]\n"
     ]
    }
   ],
   "source": [
    "import numpy as np\n",
    "import random\n",
    "# mean, mode, median, var, stdev, covar, corr\n",
    "\n",
    "random.seed(310)\n",
    "numlist = [random.randint(10,100) for _ in range(20)]\n",
    "anum = np.array(numlist)\n",
    "bnum = np.array([random.randint(10, 100) for _ in range(20)])\n",
    "print(anum)\n",
    "print(bnum)"
   ]
  },
  {
   "cell_type": "markdown",
   "id": "af7b88ab",
   "metadata": {},
   "source": [
    "Deviation\n",
    "$ : (X_i-\\bar X) $"
   ]
  },
  {
   "cell_type": "code",
   "execution_count": 8,
   "id": "06461cae",
   "metadata": {},
   "outputs": [
    {
     "name": "stdout",
     "output_type": "stream",
     "text": [
      "22.401773895926425 21.834548312250476\n",
      "-0.05841829177033006\n",
      "[[ 1.         -0.05841829]\n",
      " [-0.05841829  1.        ]]\n"
     ]
    }
   ],
   "source": [
    "def my_mean(n):      # 평균, average(하나의 이상치에도 영향을 크게 받는다.)\n",
    "    return np.sum(n)/len(n)\n",
    "\n",
    "def my_median(n):    # 중앙값\n",
    "    sorted_n = np.sort(n)\n",
    "    x = len(n)\n",
    "    if len(n)%2 == 0:\n",
    "        return (sorted_n[x//2] + sorted_n[(x//2)-1])/2\n",
    "    else:\n",
    "        return sorted_n[x//2]\n",
    "    \n",
    "def my_mode(n):      # 최빈값\n",
    "    val, cnt = np.unique(n, return_counts = True)\n",
    "    sn = sorted(zip(val,cnt), key=lambda x: x[1], reverse=True)\n",
    "    return sn[0][0]\n",
    "\n",
    "def my_deviation(n): # 편차, 제각각 값들이 평균에서 얼마나 떨어져 있는가.\n",
    "    return n - np.mean(n)\n",
    "\n",
    "def my_variance(n):  # 분산, 값들이 평균에서 떨어져 있는 정도를 나타내는 하나의 숫자\n",
    "    d = my_deviation(n)\n",
    "    return np.sum(d * d)/(len(n)-1)  # len(n)-1이유는 자유도를 맞추기 위해서이다. \n",
    "                                     # 모집단의 평균을 맞추기 위해 sample분산의 적어도 하나는 고정이여야한다.\n",
    "\n",
    "def my_stdev(n):     # 표준편차\n",
    "    return np.sqrt(my_variance(n))\n",
    "\n",
    "def my_covariance(n,m):     # n, m이 벡터값이라고 생각한다면, n과m이 얼마나\n",
    "    n_dev = my_deviation(n)\n",
    "    m_dev = my_deviation(m)\n",
    "    return np.sum(n_dev * m_dev)/(len(n)-1)\n",
    "\n",
    "def my_corr(n, m):\n",
    "    return my_covariance(n, m)/(my_stdev(n) * my_stdev(m))\n",
    "\n",
    "\n",
    "#print(중앙값)\n",
    "#print(np.sort(anum)) # sort - 정렬을 시키는 메소드\n",
    "#print(my_median(anum))\n",
    "#print((48+50)/2)\n",
    "\n",
    "#  print(최빈값)\n",
    "#val, cnt = np.unique(anum, return_counts = True)\n",
    "#print(val)\n",
    "#print(cnt)\n",
    "#ret = sorted(zip(val, cnt), key=lambda x: x[1], reverse=True)\n",
    "#print(ret[0][0])\n",
    "#my_mode(anum)\n",
    "\n",
    "print(my_stdev(anum), np.std(anum))\n",
    "print(my_corr(anum, bnum))\n",
    "print(np.corrcoef(anum, bnum))"
   ]
  }
 ],
 "metadata": {
  "kernelspec": {
   "display_name": "Python 3 (ipykernel)",
   "language": "python",
   "name": "python3"
  },
  "language_info": {
   "codemirror_mode": {
    "name": "ipython",
    "version": 3
   },
   "file_extension": ".py",
   "mimetype": "text/x-python",
   "name": "python",
   "nbconvert_exporter": "python",
   "pygments_lexer": "ipython3",
   "version": "3.10.6"
  }
 },
 "nbformat": 4,
 "nbformat_minor": 5
}
