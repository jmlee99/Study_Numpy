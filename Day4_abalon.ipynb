{
 "cells": [
  {
   "cell_type": "markdown",
   "id": "a4856c16",
   "metadata": {},
   "source": [
    "#### UCI ABALONE\n",
    "\n",
    "- Sex가 M인 샘플에 대해,\n",
    "\n",
    "     Length와 Height의 회귀선 긋고, SSE값 구해보기\n",
    "    \n",
    "\n",
    "- Sex가 F인 샘플에 대해,  \n",
    "    \n",
    "    * Whole weight 대비 Shucked weight, Vicera weight, Shell weight의 각 % 구성비\n",
    "    \n",
    "    * Male에 대해서도 구성비 구하기\n",
    "    * Female, Male 간 각 구성비(%)의 mean 값에 차이가 있는지, 눈으로 살펴보기"
   ]
  },
  {
   "cell_type": "markdown",
   "id": "8f28f466",
   "metadata": {},
   "source": [
    "x : x 값, scalar\n",
    "X : x 값들의 집합(리스트)\n",
    "\n",
    "$ \\bar X $ : 평균\n",
    "$ \\hat X $ : 예측값\n",
    "\n",
    "$ SSE = \\sum_{i=0}^{n} (Y_i - \\hat Y_i)^2 $\n",
    "\n",
    "$ SST = \\sum_{i=0}^{n} (Y_i - \\bar Y)^2 $\n",
    "\n",
    "$ SSR = \\sum_{i=0}^{n} (\\hat Y_i - \\bar Y)^2 $\n",
    "\n",
    "\n",
    "$ a\\cdot b = \\sum_{i=0}^{n} a_i b_i $"
   ]
  },
  {
   "cell_type": "code",
   "execution_count": 2,
   "id": "7619a082",
   "metadata": {},
   "outputs": [
    {
     "name": "stdout",
     "output_type": "stream",
     "text": [
      "[['M' 0.455 0.365 0.095 0.514 0.2245 0.101 0.15 15]\n",
      " ['M' 0.35 0.265 0.09 0.2255 0.0995 0.0485 0.07 7]\n",
      " ['F' 0.53 0.42 0.135 0.677 0.2565 0.1415 0.21 9]\n",
      " ['M' 0.44 0.365 0.125 0.516 0.2155 0.114 0.155 10]\n",
      " ['I' 0.33 0.255 0.08 0.205 0.0895 0.0395 0.055 7]] (4177, 9)\n"
     ]
    }
   ],
   "source": [
    "# Sex가 M인 샘플에 대해, Length와 Height의 회귀선 긋고, SSE값 구해보기\n",
    "\n",
    "# Sex가 F인 샘플에 대해, Whole weight 대비, Shucked weight, Vicera weight, Shell weight의 각 % 구성비\n",
    "\n",
    "import numpy as np\n",
    "import pandas as pd\n",
    "import matplotlib.pyplot as plt\n",
    "\n",
    "url = 'https://archive.ics.uci.edu/ml/machine-learning-databases/abalone/abalone.data'\n",
    "pd_data = pd.read_csv(url, header = None)\n",
    "np_data = pd_data.to_numpy()\n",
    "print(np_data[:5], np_data.shape)\n",
    "\n"
   ]
  },
  {
   "cell_type": "code",
   "execution_count": 5,
   "id": "9b55a6ab",
   "metadata": {},
   "outputs": [
    {
     "data": {
      "text/plain": [
       "array([['M', 0.455, 0.365, ..., 0.101, 0.15, 15],\n",
       "       ['M', 0.35, 0.265, ..., 0.0485, 0.07, 7],\n",
       "       ['M', 0.44, 0.365, ..., 0.114, 0.155, 10],\n",
       "       ...,\n",
       "       ['M', 0.59, 0.44, ..., 0.2145, 0.2605, 10],\n",
       "       ['M', 0.6, 0.475, ..., 0.2875, 0.308, 9],\n",
       "       ['M', 0.71, 0.555, ..., 0.3765, 0.495, 12]], dtype=object)"
      ]
     },
     "execution_count": 5,
     "metadata": {},
     "output_type": "execute_result"
    }
   ],
   "source": [
    "filter1 = np_data[:, 0] == 'M'\n",
    "np_data[filter1]"
   ]
  },
  {
   "cell_type": "code",
   "execution_count": 17,
   "id": "83f6e23d",
   "metadata": {},
   "outputs": [
    {
     "name": "stdout",
     "output_type": "stream",
     "text": [
      "0.832620139331138\n"
     ]
    },
    {
     "data": {
      "text/plain": [
       "Text(0.2, 0.3, 'SSE: 0.5673949700538785')"
      ]
     },
     "execution_count": 17,
     "metadata": {},
     "output_type": "execute_result"
    },
    {
     "data": {
      "image/png": "[encoded data removed]",
      "text/plain": [
       "<Figure size 432x288 with 1 Axes>"
      ]
     },
     "metadata": {
      "needs_background": "light"
     },
     "output_type": "display_data"
    }
   ],
   "source": [
    "# Length : 1, height : 3\n",
    "\n",
    "filter1 = np_data[:, 0] == 'M'\n",
    "male = np_data[filter1]\n",
    "\n",
    "xs = male[:, 1].astype(np.float64)\n",
    "ys = male[:, 3].astype(np.float64)\n",
    "\n",
    "xs_mean = xs.mean()\n",
    "ys_mean = ys.mean()\n",
    "xs_std = xs.std()\n",
    "ys_std = ys.std()\n",
    "xy_corr = np.corrcoef(xs, ys)[0,1]\n",
    "print(xy_corr)\n",
    "\n",
    "slope = xy_corr * (ys_std / xs_std)\n",
    "intercept = ys_mean - (slope * xs_mean)\n",
    "\n",
    "ys_pred = xs*slope+intercept\n",
    "sse = np.sum((ys - ys_pred)**2)\n",
    "\n",
    "_, axe = plt.subplots()\n",
    "axe.scatter(xs, ys)\n",
    "axe.plot(xs, xs*slope+intercept, c='r')\n",
    "axe.annotate('SSE: {0}'.format(sse), xy=(0.2, 0.3))"
   ]
  },
  {
   "cell_type": "code",
   "execution_count": 20,
   "id": "07d925d6",
   "metadata": {},
   "outputs": [
    {
     "name": "stdout",
     "output_type": "stream",
     "text": [
      "Shucked 0.4232978625715364\n",
      "Viscera 0.22136504174282245\n",
      "Shell 0.292472678095641\n",
      "********\n",
      "Shucked 0.43068773690312573\n",
      "Viscera 0.21850769250299112\n",
      "Shell 0.29146055436012214\n"
     ]
    },
    {
     "data": {
      "image/png": "[encoded data removed]",
      "text/plain": [
       "<Figure size 432x288 with 1 Axes>"
      ]
     },
     "metadata": {
      "needs_background": "light"
     },
     "output_type": "display_data"
    }
   ],
   "source": [
    "# whole weight, 4,5,6,7\n",
    "\n",
    "filter1 = np_data[:, 0] == 'F'\n",
    "female = np_data[filter1]\n",
    "\n",
    "feature_names = ['Shucked', 'Viscera', 'Shell']\n",
    "for i in range(5,8):\n",
    "    t = female[:,i]/female[:,4]\n",
    "    print(feature_names[i-5], t.mean())\n",
    "    \n",
    "t = female[:,5]/female[:,4]\n",
    "_, axe = plt.subplots()\n",
    "axe.hist(t)\n",
    "\n",
    "print('********')\n",
    "\n",
    "filter1 = np_data[:, 0] == 'M'\n",
    "female = np_data[filter1]\n",
    "\n",
    "feature_names = ['Shucked', 'Viscera', 'Shell']\n",
    "for i in range(5, 8):\n",
    "    t = female[:, i]/female[:,4]\n",
    "    print(feature_names[i-5], t.mean())"
   ]
  }
 ],
 "metadata": {
  "kernelspec": {
   "display_name": "Python 3 (ipykernel)",
   "language": "python",
   "name": "python3"
  },
  "language_info": {
   "codemirror_mode": {
    "name": "ipython",
    "version": 3
   },
   "file_extension": ".py",
   "mimetype": "text/x-python",
   "name": "python",
   "nbconvert_exporter": "python",
   "pygments_lexer": "ipython3",
   "version": "3.10.6"
  }
 },
 "nbformat": 4,
 "nbformat_minor": 5
}
