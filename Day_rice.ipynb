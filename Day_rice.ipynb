{
 "cells": [
  {
   "cell_type": "markdown",
   "id": "8791b594",
   "metadata": {},
   "source": [
    "1인당_연간_양곡소비량\n",
    "=================\n",
    "\n",
    "* 데이터 분석\n",
    "\n",
    "> 1. index 4번째는 농가 + 비농가 col 추가\n",
    ">\n",
    "> 2. 농가/합계, 비농가/합계 비율을 각각 col 추가\n",
    ">\n",
    "> 3. 농가, 비농가 각 년도 별 차이 구하기\n",
    ">\n",
    "> 4. 농가, 비농가 쌀 소비량 회귀선 구하기\n",
    ">\n",
    "> 5. 농가와 비농가 쌀 소비량이 같아지는 추세\n"
   ]
  },
  {
   "cell_type": "code",
   "execution_count": 124,
   "id": "3f9b5155",
   "metadata": {},
   "outputs": [
    {
     "name": "stdout",
     "output_type": "stream",
     "text": [
      "[[2011.    69.8  107.7   67.2]\n",
      " [2012.    68.6  105.4   66.2]\n",
      " [2013.    66.   101.6   63.1]\n",
      " [2014.    64.    99.    61.2]\n",
      " [2015.    61.9   96.3   59.4]\n",
      " [2016.    61.    94.7   59. ]\n",
      " [2017.    61.1   92.3   59.3]\n",
      " [2018.    60.5   91.7   58.8]\n",
      " [2019.    58.6   90.3   56.9]\n",
      " [2020.    57.1   88.8   55.5]\n",
      " [2021.    56.5   87.4   54.9]\n",
      " [2022.    56.5   87.4   54.9]] (12, 4)\n"
     ]
    }
   ],
   "source": [
    "import numpy as np\n",
    "import pandas as pd\n",
    "import matplotlib.pyplot as plt\n",
    "from scipy import stats\n",
    "import statsmodels.api as sm\n",
    "\n",
    "np.set_printoptions(precision=3, suppress=True)\n",
    "\n",
    "data_file = '1인당_연간_양곡소비량_20230324202555.csv'\n",
    "np_data = pd.read_csv(data_file, encoding = 'cp949').to_numpy()\n",
    "np_data = np_data[1:, 1:].astype(np.float64)\n",
    "print(np_data, np_data.shape)"
   ]
  },
  {
   "cell_type": "code",
   "execution_count": 125,
   "id": "5a555b4f",
   "metadata": {},
   "outputs": [],
   "source": [
    "New_col = (np_data[:,2] + np_data[:, 3]).reshape(12,1)\n",
    "# 또는 New_col = New_col[:, np.newaxis]"
   ]
  },
  {
   "cell_type": "code",
   "execution_count": 126,
   "id": "46e85854",
   "metadata": {},
   "outputs": [
    {
     "name": "stdout",
     "output_type": "stream",
     "text": [
      "[[2011.    69.8  107.7   67.2  174.9]\n",
      " [2012.    68.6  105.4   66.2  171.6]\n",
      " [2013.    66.   101.6   63.1  164.7]\n",
      " [2014.    64.    99.    61.2  160.2]\n",
      " [2015.    61.9   96.3   59.4  155.7]\n",
      " [2016.    61.    94.7   59.   153.7]\n",
      " [2017.    61.1   92.3   59.3  151.6]\n",
      " [2018.    60.5   91.7   58.8  150.5]\n",
      " [2019.    58.6   90.3   56.9  147.2]\n",
      " [2020.    57.1   88.8   55.5  144.3]\n",
      " [2021.    56.5   87.4   54.9  142.3]\n",
      " [2022.    56.5   87.4   54.9  142.3]]\n"
     ]
    }
   ],
   "source": [
    "#np.concartenate\n",
    "#__[:, np.newaxis]\n",
    "# ndarray[np.newaxis, :]\n",
    "# .expand_dims()\n",
    "new_data = np.concatenate((np_data, New_col), axis = 1)\n",
    "print(new_data)"
   ]
  },
  {
   "cell_type": "code",
   "execution_count": 127,
   "id": "2af57a5f",
   "metadata": {},
   "outputs": [
    {
     "name": "stdout",
     "output_type": "stream",
     "text": [
      "[[2011.      69.8    107.7     67.2    174.9      0.616    0.384]\n",
      " [2012.      68.6    105.4     66.2    171.6      0.614    0.386]\n",
      " [2013.      66.     101.6     63.1    164.7      0.617    0.383]\n",
      " [2014.      64.      99.      61.2    160.2      0.618    0.382]\n",
      " [2015.      61.9     96.3     59.4    155.7      0.618    0.382]\n",
      " [2016.      61.      94.7     59.     153.7      0.616    0.384]\n",
      " [2017.      61.1     92.3     59.3    151.6      0.609    0.391]\n",
      " [2018.      60.5     91.7     58.8    150.5      0.609    0.391]\n",
      " [2019.      58.6     90.3     56.9    147.2      0.613    0.387]\n",
      " [2020.      57.1     88.8     55.5    144.3      0.615    0.385]\n",
      " [2021.      56.5     87.4     54.9    142.3      0.614    0.386]\n",
      " [2022.      56.5     87.4     54.9    142.3      0.614    0.386]]\n"
     ]
    }
   ],
   "source": [
    "new_col_a = (new_data[:, 2]/new_data[:, 4]).reshape(12,1)\n",
    "new_col_b = (new_data[:, 3]/new_data[:, 4]).reshape(12,1)\n",
    "\n",
    "\n",
    "#print(new_col_a, new_col_b)\n",
    "\n",
    "final_data = np.concatenate((new_data, new_col_a, new_col_b), axis = 1)\n",
    "\n",
    "print(final_data)"
   ]
  },
  {
   "cell_type": "code",
   "execution_count": 128,
   "id": "bb05768c",
   "metadata": {},
   "outputs": [
    {
     "data": {
      "text/plain": [
       "array([ 3, -2,  5, -1])"
      ]
     },
     "execution_count": 128,
     "metadata": {},
     "output_type": "execute_result"
    }
   ],
   "source": [
    "# np.diff()함수 사용해 보기\n",
    "a1 = np.array([2,5,3,8,7])\n",
    "np.diff(a1)"
   ]
  },
  {
   "cell_type": "code",
   "execution_count": 129,
   "id": "8af0596a",
   "metadata": {},
   "outputs": [
    {
     "data": {
      "text/plain": [
       "array([[ 1.   , -1.2  , -2.3  , -1.   , -3.3  , -0.002,  0.002],\n",
       "       [ 1.   , -2.6  , -3.8  , -3.1  , -6.9  ,  0.003, -0.003],\n",
       "       [ 1.   , -2.   , -2.6  , -1.9  , -4.5  ,  0.001, -0.001],\n",
       "       [ 1.   , -2.1  , -2.7  , -1.8  , -4.5  ,  0.001, -0.001],\n",
       "       [ 1.   , -0.9  , -1.6  , -0.4  , -2.   , -0.002,  0.002],\n",
       "       [ 1.   ,  0.1  , -2.4  ,  0.3  , -2.1  , -0.007,  0.007],\n",
       "       [ 1.   , -0.6  , -0.6  , -0.5  , -1.1  ,  0.   , -0.   ],\n",
       "       [ 1.   , -1.9  , -1.4  , -1.9  , -3.3  ,  0.004, -0.004],\n",
       "       [ 1.   , -1.5  , -1.5  , -1.4  , -2.9  ,  0.002, -0.002],\n",
       "       [ 1.   , -0.6  , -1.4  , -0.6  , -2.   , -0.001,  0.001],\n",
       "       [ 1.   ,  0.   ,  0.   ,  0.   ,  0.   ,  0.   ,  0.   ]])"
      ]
     },
     "execution_count": 129,
     "metadata": {},
     "output_type": "execute_result"
    }
   ],
   "source": [
    "# 농가, 비농가 각 년도 별 차이 구하기\n",
    "np.diff(final_data, axis = 0)"
   ]
  },
  {
   "cell_type": "code",
   "execution_count": 130,
   "id": "653a81bd",
   "metadata": {},
   "outputs": [
    {
     "name": "stdout",
     "output_type": "stream",
     "text": [
      "[[2011.    69.8  107.7   67.2]\n",
      " [2012.    68.6  105.4   66.2]\n",
      " [2013.    66.   101.6   63.1]\n",
      " [2014.    64.    99.    61.2]\n",
      " [2015.    61.9   96.3   59.4]\n",
      " [2016.    61.    94.7   59. ]\n",
      " [2017.    61.1   92.3   59.3]\n",
      " [2018.    60.5   91.7   58.8]\n",
      " [2019.    58.6   90.3   56.9]\n",
      " [2020.    57.1   88.8   55.5]\n",
      " [2021.    56.5   87.4   54.9]\n",
      " [2022.    56.5   87.4   54.9]]\n"
     ]
    },
    {
     "data": {
      "text/plain": [
       "<matplotlib.collections.PathCollection at 0x7f8fb22f5f90>"
      ]
     },
     "execution_count": 130,
     "metadata": {},
     "output_type": "execute_result"
    },
    {
     "data": {
      "image/png": "[encoded data removed]",
      "text/plain": [
       "<Figure size 432x288 with 1 Axes>"
      ]
     },
     "metadata": {
      "needs_background": "light"
     },
     "output_type": "display_data"
    }
   ],
   "source": [
    "print(np_data)\n",
    "_, axe = plt.subplots()\n",
    "axe.scatter(np_data[: ,2], np_data[:, 3]) # 농가 쌀 소비량 x축, 비농가 쌀 소비량 y축 \n"
   ]
  },
  {
   "cell_type": "code",
   "execution_count": 131,
   "id": "847ac8ed",
   "metadata": {},
   "outputs": [
    {
     "name": "stdout",
     "output_type": "stream",
     "text": [
      "0.9855025014693379\n"
     ]
    },
    {
     "data": {
      "text/plain": [
       "<matplotlib.collections.PathCollection at 0x7f8fb21a2890>"
      ]
     },
     "execution_count": 131,
     "metadata": {},
     "output_type": "execute_result"
    },
    {
     "data": {
      "image/png": "[encoded data removed]",
      "text/plain": [
       "<Figure size 432x288 with 1 Axes>"
      ]
     },
     "metadata": {
      "needs_background": "light"
     },
     "output_type": "display_data"
    }
   ],
   "source": [
    "# 상관도, 회귀선\n",
    "mean_x = np.mean(np_data[:, 2])\n",
    "mean_y = np.mean(np_data[:, 3])\n",
    "std_x = np.std(np_data[:, 2])\n",
    "std_y = np.std(np_data[:, 3])\n",
    "xy_corr = np.corrcoef(np_data[:, 2], np_data[:, 3])[0, 1]\n",
    "print(xy_corr)\n",
    "\n",
    "\n",
    "slope = xy_corr * (std_y/std_x)\n",
    "intercept = mean_y - (slope * mean_x)\n",
    "\n",
    "y_pred = np_data[:, 2]*slope + intercept\n",
    "\n",
    "_, axe = plt.subplots()\n",
    "axe.plot(np_data[:, 2], y_pred, c='r')\n",
    "axe.scatter(np_data[:, 2], np_data[:, 3])"
   ]
  },
  {
   "cell_type": "code",
   "execution_count": 132,
   "id": "60d9c96d",
   "metadata": {},
   "outputs": [
    {
     "name": "stdout",
     "output_type": "stream",
     "text": [
      "-0.9760591450063468\n"
     ]
    },
    {
     "data": {
      "text/plain": [
       "[<matplotlib.lines.Line2D at 0x7f8fb2216bc0>]"
      ]
     },
     "execution_count": 132,
     "metadata": {},
     "output_type": "execute_result"
    },
    {
     "data": {
      "image/png": "[encoded data removed]",
      "text/plain": [
       "<Figure size 432x288 with 1 Axes>"
      ]
     },
     "metadata": {
      "needs_background": "light"
     },
     "output_type": "display_data"
    }
   ],
   "source": [
    "x = np.arange(2011, 2023)\n",
    "y = np_data[:, 2] # 농가\n",
    "\n",
    "mean_x = np.mean(x)\n",
    "mean_y = np.mean(y)\n",
    "std_x = np.std(x)\n",
    "std_y = np.std(y)\n",
    "xy_corr = np.corrcoef(x, y)[0, 1]\n",
    "print(xy_corr)\n",
    "\n",
    "\n",
    "slope = xy_corr * (std_y/std_x)\n",
    "intercept = mean_y - (slope * mean_x)\n",
    "\n",
    "farm_slope = slope\n",
    "farm_intercept = intercept\n",
    "\n",
    "y_pred = x*slope + intercept\n",
    "\n",
    "_, axe = plt.subplots()\n",
    "axe.scatter(x, y)\n",
    "axe.plot(x, y_pred)"
   ]
  },
  {
   "cell_type": "code",
   "execution_count": 134,
   "id": "441c151d",
   "metadata": {},
   "outputs": [
    {
     "name": "stdout",
     "output_type": "stream",
     "text": [
      "-0.9617129201426006\n"
     ]
    },
    {
     "data": {
      "text/plain": [
       "[<matplotlib.lines.Line2D at 0x7f8fb20f46d0>]"
      ]
     },
     "execution_count": 134,
     "metadata": {},
     "output_type": "execute_result"
    },
    {
     "data": {
      "image/png": "[encoded data removed]",
      "text/plain": [
       "<Figure size 432x288 with 1 Axes>"
      ]
     },
     "metadata": {
      "needs_background": "light"
     },
     "output_type": "display_data"
    }
   ],
   "source": [
    "x = np.arange(2011, 2023)\n",
    "y = np_data[:, 3] # 비농가\n",
    "\n",
    "mean_x = np.mean(x)\n",
    "mean_y = np.mean(y)\n",
    "std_x = np.std(x)\n",
    "std_y = np.std(y)\n",
    "xy_corr = np.corrcoef(x, y)[0, 1]\n",
    "print(xy_corr)\n",
    "\n",
    "\n",
    "slope = xy_corr * (std_y/std_x)\n",
    "intercept = mean_y - (slope * mean_x)\n",
    "\n",
    "city_slope = slope\n",
    "city_intercept = intercept\n",
    "\n",
    "\n",
    "y_pred = x*slope + intercept\n",
    "\n",
    "_, axe = plt.subplots()\n",
    "axe.scatter(x, y)\n",
    "axe.plot(x, y_pred)"
   ]
  },
  {
   "cell_type": "code",
   "execution_count": 123,
   "id": "94e3585c",
   "metadata": {},
   "outputs": [
    {
     "name": "stdout",
     "output_type": "stream",
     "text": [
      "-1.8692307692307686 -1.0951048951048954\n"
     ]
    }
   ],
   "source": [
    "print(farm_slope, city_slope)"
   ]
  },
  {
   "cell_type": "code",
   "execution_count": 136,
   "id": "f55c45b9",
   "metadata": {},
   "outputs": [
    {
     "data": {
      "text/plain": [
       "[<matplotlib.lines.Line2D at 0x7f8fb1fa59f0>]"
      ]
     },
     "execution_count": 136,
     "metadata": {},
     "output_type": "execute_result"
    },
    {
     "data": {
      "image/png": "[encoded data removed]",
      "text/plain": [
       "<Figure size 432x288 with 1 Axes>"
      ]
     },
     "metadata": {
      "needs_background": "light"
     },
     "output_type": "display_data"
    }
   ],
   "source": [
    "# 농가와 비농가 쌀 소비량이 같아지는 추세\n",
    "\n",
    "x = np.arange(2025, 2070)\n",
    "_,axe = plt.subplots()\n",
    "\n",
    "axe.plot(x, x*farm_slope+farm_intercept, c = 'r')\n",
    "axe.plot(x, x*city_slope+city_intercept, c = 'b')"
   ]
  },
  {
   "cell_type": "code",
   "execution_count": null,
   "id": "db14879d",
   "metadata": {},
   "outputs": [],
   "source": []
  }
 ],
 "metadata": {
  "kernelspec": {
   "display_name": "Python 3 (ipykernel)",
   "language": "python",
   "name": "python3"
  },
  "language_info": {
   "codemirror_mode": {
    "name": "ipython",
    "version": 3
   },
   "file_extension": ".py",
   "mimetype": "text/x-python",
   "name": "python",
   "nbconvert_exporter": "python",
   "pygments_lexer": "ipython3",
   "version": "3.10.6"
  }
 },
 "nbformat": 4,
 "nbformat_minor": 5
}
